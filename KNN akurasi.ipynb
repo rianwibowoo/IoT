{
  "nbformat": 4,
  "nbformat_minor": 0,
  "metadata": {
    "colab": {
      "provenance": []
    },
    "kernelspec": {
      "name": "python3",
      "display_name": "Python 3"
    },
    "language_info": {
      "name": "python"
    }
  },
  "cells": [
    {
      "cell_type": "code",
      "execution_count": 254,
      "metadata": {
        "id": "XM2c17B1s7ZQ"
      },
      "outputs": [],
      "source": [
        "import numpy as np\n",
        "import pandas as pd\n",
        "import matplotlib.pyplot as plt\n",
        "import seaborn as sns"
      ]
    },
    {
      "cell_type": "code",
      "source": [
        "dataset = pd.read_csv('Dataset.csv')"
      ],
      "metadata": {
        "id": "et93UMz2tE5O"
      },
      "execution_count": 255,
      "outputs": []
    },
    {
      "cell_type": "code",
      "source": [
        "dataset.head()"
      ],
      "metadata": {
        "colab": {
          "base_uri": "https://localhost:8080/",
          "height": 206
        },
        "id": "tDeBgPdntIvZ",
        "outputId": "6d07ac53-5842-43e6-ed7e-a3911d999ab3"
      },
      "execution_count": 256,
      "outputs": [
        {
          "output_type": "execute_result",
          "data": {
            "text/plain": [
              "      Time  Api  Suhu  Kelembaban    PPM            Label\n",
              "0  1:33:59    0  26.9          72  50.14  Tidak Kebakaran\n",
              "1  1:34:03    0  26.8          72  50.89  Tidak Kebakaran\n",
              "2  1:34:06    0  26.9          72  49.77  Tidak Kebakaran\n",
              "3  1:34:10    0  26.9          72  51.64  Tidak Kebakaran\n",
              "4  1:34:14    0  26.8          72  54.34  Tidak Kebakaran"
            ],
            "text/html": [
              "\n",
              "  <div id=\"df-32dcb871-8473-4ada-bd55-beb4ad4d1a25\">\n",
              "    <div class=\"colab-df-container\">\n",
              "      <div>\n",
              "<style scoped>\n",
              "    .dataframe tbody tr th:only-of-type {\n",
              "        vertical-align: middle;\n",
              "    }\n",
              "\n",
              "    .dataframe tbody tr th {\n",
              "        vertical-align: top;\n",
              "    }\n",
              "\n",
              "    .dataframe thead th {\n",
              "        text-align: right;\n",
              "    }\n",
              "</style>\n",
              "<table border=\"1\" class=\"dataframe\">\n",
              "  <thead>\n",
              "    <tr style=\"text-align: right;\">\n",
              "      <th></th>\n",
              "      <th>Time</th>\n",
              "      <th>Api</th>\n",
              "      <th>Suhu</th>\n",
              "      <th>Kelembaban</th>\n",
              "      <th>PPM</th>\n",
              "      <th>Label</th>\n",
              "    </tr>\n",
              "  </thead>\n",
              "  <tbody>\n",
              "    <tr>\n",
              "      <th>0</th>\n",
              "      <td>1:33:59</td>\n",
              "      <td>0</td>\n",
              "      <td>26.9</td>\n",
              "      <td>72</td>\n",
              "      <td>50.14</td>\n",
              "      <td>Tidak Kebakaran</td>\n",
              "    </tr>\n",
              "    <tr>\n",
              "      <th>1</th>\n",
              "      <td>1:34:03</td>\n",
              "      <td>0</td>\n",
              "      <td>26.8</td>\n",
              "      <td>72</td>\n",
              "      <td>50.89</td>\n",
              "      <td>Tidak Kebakaran</td>\n",
              "    </tr>\n",
              "    <tr>\n",
              "      <th>2</th>\n",
              "      <td>1:34:06</td>\n",
              "      <td>0</td>\n",
              "      <td>26.9</td>\n",
              "      <td>72</td>\n",
              "      <td>49.77</td>\n",
              "      <td>Tidak Kebakaran</td>\n",
              "    </tr>\n",
              "    <tr>\n",
              "      <th>3</th>\n",
              "      <td>1:34:10</td>\n",
              "      <td>0</td>\n",
              "      <td>26.9</td>\n",
              "      <td>72</td>\n",
              "      <td>51.64</td>\n",
              "      <td>Tidak Kebakaran</td>\n",
              "    </tr>\n",
              "    <tr>\n",
              "      <th>4</th>\n",
              "      <td>1:34:14</td>\n",
              "      <td>0</td>\n",
              "      <td>26.8</td>\n",
              "      <td>72</td>\n",
              "      <td>54.34</td>\n",
              "      <td>Tidak Kebakaran</td>\n",
              "    </tr>\n",
              "  </tbody>\n",
              "</table>\n",
              "</div>\n",
              "      <button class=\"colab-df-convert\" onclick=\"convertToInteractive('df-32dcb871-8473-4ada-bd55-beb4ad4d1a25')\"\n",
              "              title=\"Convert this dataframe to an interactive table.\"\n",
              "              style=\"display:none;\">\n",
              "        \n",
              "  <svg xmlns=\"http://www.w3.org/2000/svg\" height=\"24px\"viewBox=\"0 0 24 24\"\n",
              "       width=\"24px\">\n",
              "    <path d=\"M0 0h24v24H0V0z\" fill=\"none\"/>\n",
              "    <path d=\"M18.56 5.44l.94 2.06.94-2.06 2.06-.94-2.06-.94-.94-2.06-.94 2.06-2.06.94zm-11 1L8.5 8.5l.94-2.06 2.06-.94-2.06-.94L8.5 2.5l-.94 2.06-2.06.94zm10 10l.94 2.06.94-2.06 2.06-.94-2.06-.94-.94-2.06-.94 2.06-2.06.94z\"/><path d=\"M17.41 7.96l-1.37-1.37c-.4-.4-.92-.59-1.43-.59-.52 0-1.04.2-1.43.59L10.3 9.45l-7.72 7.72c-.78.78-.78 2.05 0 2.83L4 21.41c.39.39.9.59 1.41.59.51 0 1.02-.2 1.41-.59l7.78-7.78 2.81-2.81c.8-.78.8-2.07 0-2.86zM5.41 20L4 18.59l7.72-7.72 1.47 1.35L5.41 20z\"/>\n",
              "  </svg>\n",
              "      </button>\n",
              "      \n",
              "  <style>\n",
              "    .colab-df-container {\n",
              "      display:flex;\n",
              "      flex-wrap:wrap;\n",
              "      gap: 12px;\n",
              "    }\n",
              "\n",
              "    .colab-df-convert {\n",
              "      background-color: #E8F0FE;\n",
              "      border: none;\n",
              "      border-radius: 50%;\n",
              "      cursor: pointer;\n",
              "      display: none;\n",
              "      fill: #1967D2;\n",
              "      height: 32px;\n",
              "      padding: 0 0 0 0;\n",
              "      width: 32px;\n",
              "    }\n",
              "\n",
              "    .colab-df-convert:hover {\n",
              "      background-color: #E2EBFA;\n",
              "      box-shadow: 0px 1px 2px rgba(60, 64, 67, 0.3), 0px 1px 3px 1px rgba(60, 64, 67, 0.15);\n",
              "      fill: #174EA6;\n",
              "    }\n",
              "\n",
              "    [theme=dark] .colab-df-convert {\n",
              "      background-color: #3B4455;\n",
              "      fill: #D2E3FC;\n",
              "    }\n",
              "\n",
              "    [theme=dark] .colab-df-convert:hover {\n",
              "      background-color: #434B5C;\n",
              "      box-shadow: 0px 1px 3px 1px rgba(0, 0, 0, 0.15);\n",
              "      filter: drop-shadow(0px 1px 2px rgba(0, 0, 0, 0.3));\n",
              "      fill: #FFFFFF;\n",
              "    }\n",
              "  </style>\n",
              "\n",
              "      <script>\n",
              "        const buttonEl =\n",
              "          document.querySelector('#df-32dcb871-8473-4ada-bd55-beb4ad4d1a25 button.colab-df-convert');\n",
              "        buttonEl.style.display =\n",
              "          google.colab.kernel.accessAllowed ? 'block' : 'none';\n",
              "\n",
              "        async function convertToInteractive(key) {\n",
              "          const element = document.querySelector('#df-32dcb871-8473-4ada-bd55-beb4ad4d1a25');\n",
              "          const dataTable =\n",
              "            await google.colab.kernel.invokeFunction('convertToInteractive',\n",
              "                                                     [key], {});\n",
              "          if (!dataTable) return;\n",
              "\n",
              "          const docLinkHtml = 'Like what you see? Visit the ' +\n",
              "            '<a target=\"_blank\" href=https://colab.research.google.com/notebooks/data_table.ipynb>data table notebook</a>'\n",
              "            + ' to learn more about interactive tables.';\n",
              "          element.innerHTML = '';\n",
              "          dataTable['output_type'] = 'display_data';\n",
              "          await google.colab.output.renderOutput(dataTable, element);\n",
              "          const docLink = document.createElement('div');\n",
              "          docLink.innerHTML = docLinkHtml;\n",
              "          element.appendChild(docLink);\n",
              "        }\n",
              "      </script>\n",
              "    </div>\n",
              "  </div>\n",
              "  "
            ]
          },
          "metadata": {},
          "execution_count": 256
        }
      ]
    },
    {
      "cell_type": "code",
      "source": [
        "from sklearn.preprocessing import LabelEncoder"
      ],
      "metadata": {
        "id": "YvHQEGb8tLDG"
      },
      "execution_count": 257,
      "outputs": []
    },
    {
      "cell_type": "code",
      "source": [
        "le=LabelEncoder()\n",
        "dataset[\"Label\"]=le.fit_transform(dataset[[\"Label\"]])"
      ],
      "metadata": {
        "colab": {
          "base_uri": "https://localhost:8080/"
        },
        "id": "4iM1WReGtVMn",
        "outputId": "c227267f-cc59-4c69-e61a-c414f1175e93"
      },
      "execution_count": 258,
      "outputs": [
        {
          "output_type": "stream",
          "name": "stderr",
          "text": [
            "/usr/local/lib/python3.8/dist-packages/sklearn/preprocessing/_label.py:115: DataConversionWarning: A column-vector y was passed when a 1d array was expected. Please change the shape of y to (n_samples, ), for example using ravel().\n",
            "  y = column_or_1d(y, warn=True)\n"
          ]
        }
      ]
    },
    {
      "cell_type": "code",
      "source": [
        "dataset.head()"
      ],
      "metadata": {
        "colab": {
          "base_uri": "https://localhost:8080/",
          "height": 206
        },
        "id": "ntbRV_YhtftS",
        "outputId": "35fff464-4496-42dc-d270-c33cc9895309"
      },
      "execution_count": 259,
      "outputs": [
        {
          "output_type": "execute_result",
          "data": {
            "text/plain": [
              "      Time  Api  Suhu  Kelembaban    PPM  Label\n",
              "0  1:33:59    0  26.9          72  50.14      0\n",
              "1  1:34:03    0  26.8          72  50.89      0\n",
              "2  1:34:06    0  26.9          72  49.77      0\n",
              "3  1:34:10    0  26.9          72  51.64      0\n",
              "4  1:34:14    0  26.8          72  54.34      0"
            ],
            "text/html": [
              "\n",
              "  <div id=\"df-dd11c7cb-0942-411c-a62b-a8a61585982a\">\n",
              "    <div class=\"colab-df-container\">\n",
              "      <div>\n",
              "<style scoped>\n",
              "    .dataframe tbody tr th:only-of-type {\n",
              "        vertical-align: middle;\n",
              "    }\n",
              "\n",
              "    .dataframe tbody tr th {\n",
              "        vertical-align: top;\n",
              "    }\n",
              "\n",
              "    .dataframe thead th {\n",
              "        text-align: right;\n",
              "    }\n",
              "</style>\n",
              "<table border=\"1\" class=\"dataframe\">\n",
              "  <thead>\n",
              "    <tr style=\"text-align: right;\">\n",
              "      <th></th>\n",
              "      <th>Time</th>\n",
              "      <th>Api</th>\n",
              "      <th>Suhu</th>\n",
              "      <th>Kelembaban</th>\n",
              "      <th>PPM</th>\n",
              "      <th>Label</th>\n",
              "    </tr>\n",
              "  </thead>\n",
              "  <tbody>\n",
              "    <tr>\n",
              "      <th>0</th>\n",
              "      <td>1:33:59</td>\n",
              "      <td>0</td>\n",
              "      <td>26.9</td>\n",
              "      <td>72</td>\n",
              "      <td>50.14</td>\n",
              "      <td>0</td>\n",
              "    </tr>\n",
              "    <tr>\n",
              "      <th>1</th>\n",
              "      <td>1:34:03</td>\n",
              "      <td>0</td>\n",
              "      <td>26.8</td>\n",
              "      <td>72</td>\n",
              "      <td>50.89</td>\n",
              "      <td>0</td>\n",
              "    </tr>\n",
              "    <tr>\n",
              "      <th>2</th>\n",
              "      <td>1:34:06</td>\n",
              "      <td>0</td>\n",
              "      <td>26.9</td>\n",
              "      <td>72</td>\n",
              "      <td>49.77</td>\n",
              "      <td>0</td>\n",
              "    </tr>\n",
              "    <tr>\n",
              "      <th>3</th>\n",
              "      <td>1:34:10</td>\n",
              "      <td>0</td>\n",
              "      <td>26.9</td>\n",
              "      <td>72</td>\n",
              "      <td>51.64</td>\n",
              "      <td>0</td>\n",
              "    </tr>\n",
              "    <tr>\n",
              "      <th>4</th>\n",
              "      <td>1:34:14</td>\n",
              "      <td>0</td>\n",
              "      <td>26.8</td>\n",
              "      <td>72</td>\n",
              "      <td>54.34</td>\n",
              "      <td>0</td>\n",
              "    </tr>\n",
              "  </tbody>\n",
              "</table>\n",
              "</div>\n",
              "      <button class=\"colab-df-convert\" onclick=\"convertToInteractive('df-dd11c7cb-0942-411c-a62b-a8a61585982a')\"\n",
              "              title=\"Convert this dataframe to an interactive table.\"\n",
              "              style=\"display:none;\">\n",
              "        \n",
              "  <svg xmlns=\"http://www.w3.org/2000/svg\" height=\"24px\"viewBox=\"0 0 24 24\"\n",
              "       width=\"24px\">\n",
              "    <path d=\"M0 0h24v24H0V0z\" fill=\"none\"/>\n",
              "    <path d=\"M18.56 5.44l.94 2.06.94-2.06 2.06-.94-2.06-.94-.94-2.06-.94 2.06-2.06.94zm-11 1L8.5 8.5l.94-2.06 2.06-.94-2.06-.94L8.5 2.5l-.94 2.06-2.06.94zm10 10l.94 2.06.94-2.06 2.06-.94-2.06-.94-.94-2.06-.94 2.06-2.06.94z\"/><path d=\"M17.41 7.96l-1.37-1.37c-.4-.4-.92-.59-1.43-.59-.52 0-1.04.2-1.43.59L10.3 9.45l-7.72 7.72c-.78.78-.78 2.05 0 2.83L4 21.41c.39.39.9.59 1.41.59.51 0 1.02-.2 1.41-.59l7.78-7.78 2.81-2.81c.8-.78.8-2.07 0-2.86zM5.41 20L4 18.59l7.72-7.72 1.47 1.35L5.41 20z\"/>\n",
              "  </svg>\n",
              "      </button>\n",
              "      \n",
              "  <style>\n",
              "    .colab-df-container {\n",
              "      display:flex;\n",
              "      flex-wrap:wrap;\n",
              "      gap: 12px;\n",
              "    }\n",
              "\n",
              "    .colab-df-convert {\n",
              "      background-color: #E8F0FE;\n",
              "      border: none;\n",
              "      border-radius: 50%;\n",
              "      cursor: pointer;\n",
              "      display: none;\n",
              "      fill: #1967D2;\n",
              "      height: 32px;\n",
              "      padding: 0 0 0 0;\n",
              "      width: 32px;\n",
              "    }\n",
              "\n",
              "    .colab-df-convert:hover {\n",
              "      background-color: #E2EBFA;\n",
              "      box-shadow: 0px 1px 2px rgba(60, 64, 67, 0.3), 0px 1px 3px 1px rgba(60, 64, 67, 0.15);\n",
              "      fill: #174EA6;\n",
              "    }\n",
              "\n",
              "    [theme=dark] .colab-df-convert {\n",
              "      background-color: #3B4455;\n",
              "      fill: #D2E3FC;\n",
              "    }\n",
              "\n",
              "    [theme=dark] .colab-df-convert:hover {\n",
              "      background-color: #434B5C;\n",
              "      box-shadow: 0px 1px 3px 1px rgba(0, 0, 0, 0.15);\n",
              "      filter: drop-shadow(0px 1px 2px rgba(0, 0, 0, 0.3));\n",
              "      fill: #FFFFFF;\n",
              "    }\n",
              "  </style>\n",
              "\n",
              "      <script>\n",
              "        const buttonEl =\n",
              "          document.querySelector('#df-dd11c7cb-0942-411c-a62b-a8a61585982a button.colab-df-convert');\n",
              "        buttonEl.style.display =\n",
              "          google.colab.kernel.accessAllowed ? 'block' : 'none';\n",
              "\n",
              "        async function convertToInteractive(key) {\n",
              "          const element = document.querySelector('#df-dd11c7cb-0942-411c-a62b-a8a61585982a');\n",
              "          const dataTable =\n",
              "            await google.colab.kernel.invokeFunction('convertToInteractive',\n",
              "                                                     [key], {});\n",
              "          if (!dataTable) return;\n",
              "\n",
              "          const docLinkHtml = 'Like what you see? Visit the ' +\n",
              "            '<a target=\"_blank\" href=https://colab.research.google.com/notebooks/data_table.ipynb>data table notebook</a>'\n",
              "            + ' to learn more about interactive tables.';\n",
              "          element.innerHTML = '';\n",
              "          dataTable['output_type'] = 'display_data';\n",
              "          await google.colab.output.renderOutput(dataTable, element);\n",
              "          const docLink = document.createElement('div');\n",
              "          docLink.innerHTML = docLinkHtml;\n",
              "          element.appendChild(docLink);\n",
              "        }\n",
              "      </script>\n",
              "    </div>\n",
              "  </div>\n",
              "  "
            ]
          },
          "metadata": {},
          "execution_count": 259
        }
      ]
    },
    {
      "cell_type": "code",
      "source": [
        "dataset = dataset.iloc[:,1:]\n",
        "dataset.head()"
      ],
      "metadata": {
        "colab": {
          "base_uri": "https://localhost:8080/",
          "height": 206
        },
        "id": "E84oQM1Atnd8",
        "outputId": "b763b737-4905-40a3-ce57-032018698b35"
      },
      "execution_count": 260,
      "outputs": [
        {
          "output_type": "execute_result",
          "data": {
            "text/plain": [
              "   Api  Suhu  Kelembaban    PPM  Label\n",
              "0    0  26.9          72  50.14      0\n",
              "1    0  26.8          72  50.89      0\n",
              "2    0  26.9          72  49.77      0\n",
              "3    0  26.9          72  51.64      0\n",
              "4    0  26.8          72  54.34      0"
            ],
            "text/html": [
              "\n",
              "  <div id=\"df-fbed77cb-b2cd-4e85-bf76-5de4621e5494\">\n",
              "    <div class=\"colab-df-container\">\n",
              "      <div>\n",
              "<style scoped>\n",
              "    .dataframe tbody tr th:only-of-type {\n",
              "        vertical-align: middle;\n",
              "    }\n",
              "\n",
              "    .dataframe tbody tr th {\n",
              "        vertical-align: top;\n",
              "    }\n",
              "\n",
              "    .dataframe thead th {\n",
              "        text-align: right;\n",
              "    }\n",
              "</style>\n",
              "<table border=\"1\" class=\"dataframe\">\n",
              "  <thead>\n",
              "    <tr style=\"text-align: right;\">\n",
              "      <th></th>\n",
              "      <th>Api</th>\n",
              "      <th>Suhu</th>\n",
              "      <th>Kelembaban</th>\n",
              "      <th>PPM</th>\n",
              "      <th>Label</th>\n",
              "    </tr>\n",
              "  </thead>\n",
              "  <tbody>\n",
              "    <tr>\n",
              "      <th>0</th>\n",
              "      <td>0</td>\n",
              "      <td>26.9</td>\n",
              "      <td>72</td>\n",
              "      <td>50.14</td>\n",
              "      <td>0</td>\n",
              "    </tr>\n",
              "    <tr>\n",
              "      <th>1</th>\n",
              "      <td>0</td>\n",
              "      <td>26.8</td>\n",
              "      <td>72</td>\n",
              "      <td>50.89</td>\n",
              "      <td>0</td>\n",
              "    </tr>\n",
              "    <tr>\n",
              "      <th>2</th>\n",
              "      <td>0</td>\n",
              "      <td>26.9</td>\n",
              "      <td>72</td>\n",
              "      <td>49.77</td>\n",
              "      <td>0</td>\n",
              "    </tr>\n",
              "    <tr>\n",
              "      <th>3</th>\n",
              "      <td>0</td>\n",
              "      <td>26.9</td>\n",
              "      <td>72</td>\n",
              "      <td>51.64</td>\n",
              "      <td>0</td>\n",
              "    </tr>\n",
              "    <tr>\n",
              "      <th>4</th>\n",
              "      <td>0</td>\n",
              "      <td>26.8</td>\n",
              "      <td>72</td>\n",
              "      <td>54.34</td>\n",
              "      <td>0</td>\n",
              "    </tr>\n",
              "  </tbody>\n",
              "</table>\n",
              "</div>\n",
              "      <button class=\"colab-df-convert\" onclick=\"convertToInteractive('df-fbed77cb-b2cd-4e85-bf76-5de4621e5494')\"\n",
              "              title=\"Convert this dataframe to an interactive table.\"\n",
              "              style=\"display:none;\">\n",
              "        \n",
              "  <svg xmlns=\"http://www.w3.org/2000/svg\" height=\"24px\"viewBox=\"0 0 24 24\"\n",
              "       width=\"24px\">\n",
              "    <path d=\"M0 0h24v24H0V0z\" fill=\"none\"/>\n",
              "    <path d=\"M18.56 5.44l.94 2.06.94-2.06 2.06-.94-2.06-.94-.94-2.06-.94 2.06-2.06.94zm-11 1L8.5 8.5l.94-2.06 2.06-.94-2.06-.94L8.5 2.5l-.94 2.06-2.06.94zm10 10l.94 2.06.94-2.06 2.06-.94-2.06-.94-.94-2.06-.94 2.06-2.06.94z\"/><path d=\"M17.41 7.96l-1.37-1.37c-.4-.4-.92-.59-1.43-.59-.52 0-1.04.2-1.43.59L10.3 9.45l-7.72 7.72c-.78.78-.78 2.05 0 2.83L4 21.41c.39.39.9.59 1.41.59.51 0 1.02-.2 1.41-.59l7.78-7.78 2.81-2.81c.8-.78.8-2.07 0-2.86zM5.41 20L4 18.59l7.72-7.72 1.47 1.35L5.41 20z\"/>\n",
              "  </svg>\n",
              "      </button>\n",
              "      \n",
              "  <style>\n",
              "    .colab-df-container {\n",
              "      display:flex;\n",
              "      flex-wrap:wrap;\n",
              "      gap: 12px;\n",
              "    }\n",
              "\n",
              "    .colab-df-convert {\n",
              "      background-color: #E8F0FE;\n",
              "      border: none;\n",
              "      border-radius: 50%;\n",
              "      cursor: pointer;\n",
              "      display: none;\n",
              "      fill: #1967D2;\n",
              "      height: 32px;\n",
              "      padding: 0 0 0 0;\n",
              "      width: 32px;\n",
              "    }\n",
              "\n",
              "    .colab-df-convert:hover {\n",
              "      background-color: #E2EBFA;\n",
              "      box-shadow: 0px 1px 2px rgba(60, 64, 67, 0.3), 0px 1px 3px 1px rgba(60, 64, 67, 0.15);\n",
              "      fill: #174EA6;\n",
              "    }\n",
              "\n",
              "    [theme=dark] .colab-df-convert {\n",
              "      background-color: #3B4455;\n",
              "      fill: #D2E3FC;\n",
              "    }\n",
              "\n",
              "    [theme=dark] .colab-df-convert:hover {\n",
              "      background-color: #434B5C;\n",
              "      box-shadow: 0px 1px 3px 1px rgba(0, 0, 0, 0.15);\n",
              "      filter: drop-shadow(0px 1px 2px rgba(0, 0, 0, 0.3));\n",
              "      fill: #FFFFFF;\n",
              "    }\n",
              "  </style>\n",
              "\n",
              "      <script>\n",
              "        const buttonEl =\n",
              "          document.querySelector('#df-fbed77cb-b2cd-4e85-bf76-5de4621e5494 button.colab-df-convert');\n",
              "        buttonEl.style.display =\n",
              "          google.colab.kernel.accessAllowed ? 'block' : 'none';\n",
              "\n",
              "        async function convertToInteractive(key) {\n",
              "          const element = document.querySelector('#df-fbed77cb-b2cd-4e85-bf76-5de4621e5494');\n",
              "          const dataTable =\n",
              "            await google.colab.kernel.invokeFunction('convertToInteractive',\n",
              "                                                     [key], {});\n",
              "          if (!dataTable) return;\n",
              "\n",
              "          const docLinkHtml = 'Like what you see? Visit the ' +\n",
              "            '<a target=\"_blank\" href=https://colab.research.google.com/notebooks/data_table.ipynb>data table notebook</a>'\n",
              "            + ' to learn more about interactive tables.';\n",
              "          element.innerHTML = '';\n",
              "          dataTable['output_type'] = 'display_data';\n",
              "          await google.colab.output.renderOutput(dataTable, element);\n",
              "          const docLink = document.createElement('div');\n",
              "          docLink.innerHTML = docLinkHtml;\n",
              "          element.appendChild(docLink);\n",
              "        }\n",
              "      </script>\n",
              "    </div>\n",
              "  </div>\n",
              "  "
            ]
          },
          "metadata": {},
          "execution_count": 260
        }
      ]
    },
    {
      "cell_type": "code",
      "source": [
        "x=dataset.iloc[ : , :-1]\n",
        "x.head()"
      ],
      "metadata": {
        "colab": {
          "base_uri": "https://localhost:8080/",
          "height": 206
        },
        "id": "2s7AOyCDtt_x",
        "outputId": "be56cf7b-93e5-404b-ab3c-7cb0d49f7b10"
      },
      "execution_count": 261,
      "outputs": [
        {
          "output_type": "execute_result",
          "data": {
            "text/plain": [
              "   Api  Suhu  Kelembaban    PPM\n",
              "0    0  26.9          72  50.14\n",
              "1    0  26.8          72  50.89\n",
              "2    0  26.9          72  49.77\n",
              "3    0  26.9          72  51.64\n",
              "4    0  26.8          72  54.34"
            ],
            "text/html": [
              "\n",
              "  <div id=\"df-1b015f62-946a-4b77-9775-ae2764091f7a\">\n",
              "    <div class=\"colab-df-container\">\n",
              "      <div>\n",
              "<style scoped>\n",
              "    .dataframe tbody tr th:only-of-type {\n",
              "        vertical-align: middle;\n",
              "    }\n",
              "\n",
              "    .dataframe tbody tr th {\n",
              "        vertical-align: top;\n",
              "    }\n",
              "\n",
              "    .dataframe thead th {\n",
              "        text-align: right;\n",
              "    }\n",
              "</style>\n",
              "<table border=\"1\" class=\"dataframe\">\n",
              "  <thead>\n",
              "    <tr style=\"text-align: right;\">\n",
              "      <th></th>\n",
              "      <th>Api</th>\n",
              "      <th>Suhu</th>\n",
              "      <th>Kelembaban</th>\n",
              "      <th>PPM</th>\n",
              "    </tr>\n",
              "  </thead>\n",
              "  <tbody>\n",
              "    <tr>\n",
              "      <th>0</th>\n",
              "      <td>0</td>\n",
              "      <td>26.9</td>\n",
              "      <td>72</td>\n",
              "      <td>50.14</td>\n",
              "    </tr>\n",
              "    <tr>\n",
              "      <th>1</th>\n",
              "      <td>0</td>\n",
              "      <td>26.8</td>\n",
              "      <td>72</td>\n",
              "      <td>50.89</td>\n",
              "    </tr>\n",
              "    <tr>\n",
              "      <th>2</th>\n",
              "      <td>0</td>\n",
              "      <td>26.9</td>\n",
              "      <td>72</td>\n",
              "      <td>49.77</td>\n",
              "    </tr>\n",
              "    <tr>\n",
              "      <th>3</th>\n",
              "      <td>0</td>\n",
              "      <td>26.9</td>\n",
              "      <td>72</td>\n",
              "      <td>51.64</td>\n",
              "    </tr>\n",
              "    <tr>\n",
              "      <th>4</th>\n",
              "      <td>0</td>\n",
              "      <td>26.8</td>\n",
              "      <td>72</td>\n",
              "      <td>54.34</td>\n",
              "    </tr>\n",
              "  </tbody>\n",
              "</table>\n",
              "</div>\n",
              "      <button class=\"colab-df-convert\" onclick=\"convertToInteractive('df-1b015f62-946a-4b77-9775-ae2764091f7a')\"\n",
              "              title=\"Convert this dataframe to an interactive table.\"\n",
              "              style=\"display:none;\">\n",
              "        \n",
              "  <svg xmlns=\"http://www.w3.org/2000/svg\" height=\"24px\"viewBox=\"0 0 24 24\"\n",
              "       width=\"24px\">\n",
              "    <path d=\"M0 0h24v24H0V0z\" fill=\"none\"/>\n",
              "    <path d=\"M18.56 5.44l.94 2.06.94-2.06 2.06-.94-2.06-.94-.94-2.06-.94 2.06-2.06.94zm-11 1L8.5 8.5l.94-2.06 2.06-.94-2.06-.94L8.5 2.5l-.94 2.06-2.06.94zm10 10l.94 2.06.94-2.06 2.06-.94-2.06-.94-.94-2.06-.94 2.06-2.06.94z\"/><path d=\"M17.41 7.96l-1.37-1.37c-.4-.4-.92-.59-1.43-.59-.52 0-1.04.2-1.43.59L10.3 9.45l-7.72 7.72c-.78.78-.78 2.05 0 2.83L4 21.41c.39.39.9.59 1.41.59.51 0 1.02-.2 1.41-.59l7.78-7.78 2.81-2.81c.8-.78.8-2.07 0-2.86zM5.41 20L4 18.59l7.72-7.72 1.47 1.35L5.41 20z\"/>\n",
              "  </svg>\n",
              "      </button>\n",
              "      \n",
              "  <style>\n",
              "    .colab-df-container {\n",
              "      display:flex;\n",
              "      flex-wrap:wrap;\n",
              "      gap: 12px;\n",
              "    }\n",
              "\n",
              "    .colab-df-convert {\n",
              "      background-color: #E8F0FE;\n",
              "      border: none;\n",
              "      border-radius: 50%;\n",
              "      cursor: pointer;\n",
              "      display: none;\n",
              "      fill: #1967D2;\n",
              "      height: 32px;\n",
              "      padding: 0 0 0 0;\n",
              "      width: 32px;\n",
              "    }\n",
              "\n",
              "    .colab-df-convert:hover {\n",
              "      background-color: #E2EBFA;\n",
              "      box-shadow: 0px 1px 2px rgba(60, 64, 67, 0.3), 0px 1px 3px 1px rgba(60, 64, 67, 0.15);\n",
              "      fill: #174EA6;\n",
              "    }\n",
              "\n",
              "    [theme=dark] .colab-df-convert {\n",
              "      background-color: #3B4455;\n",
              "      fill: #D2E3FC;\n",
              "    }\n",
              "\n",
              "    [theme=dark] .colab-df-convert:hover {\n",
              "      background-color: #434B5C;\n",
              "      box-shadow: 0px 1px 3px 1px rgba(0, 0, 0, 0.15);\n",
              "      filter: drop-shadow(0px 1px 2px rgba(0, 0, 0, 0.3));\n",
              "      fill: #FFFFFF;\n",
              "    }\n",
              "  </style>\n",
              "\n",
              "      <script>\n",
              "        const buttonEl =\n",
              "          document.querySelector('#df-1b015f62-946a-4b77-9775-ae2764091f7a button.colab-df-convert');\n",
              "        buttonEl.style.display =\n",
              "          google.colab.kernel.accessAllowed ? 'block' : 'none';\n",
              "\n",
              "        async function convertToInteractive(key) {\n",
              "          const element = document.querySelector('#df-1b015f62-946a-4b77-9775-ae2764091f7a');\n",
              "          const dataTable =\n",
              "            await google.colab.kernel.invokeFunction('convertToInteractive',\n",
              "                                                     [key], {});\n",
              "          if (!dataTable) return;\n",
              "\n",
              "          const docLinkHtml = 'Like what you see? Visit the ' +\n",
              "            '<a target=\"_blank\" href=https://colab.research.google.com/notebooks/data_table.ipynb>data table notebook</a>'\n",
              "            + ' to learn more about interactive tables.';\n",
              "          element.innerHTML = '';\n",
              "          dataTable['output_type'] = 'display_data';\n",
              "          await google.colab.output.renderOutput(dataTable, element);\n",
              "          const docLink = document.createElement('div');\n",
              "          docLink.innerHTML = docLinkHtml;\n",
              "          element.appendChild(docLink);\n",
              "        }\n",
              "      </script>\n",
              "    </div>\n",
              "  </div>\n",
              "  "
            ]
          },
          "metadata": {},
          "execution_count": 261
        }
      ]
    },
    {
      "cell_type": "code",
      "source": [
        "y=dataset.iloc[ : ,-1]\n",
        "y.head()"
      ],
      "metadata": {
        "colab": {
          "base_uri": "https://localhost:8080/"
        },
        "id": "rqyMKNI2tyab",
        "outputId": "9603fd03-a321-4772-d9d5-33bc5a06a650"
      },
      "execution_count": 262,
      "outputs": [
        {
          "output_type": "execute_result",
          "data": {
            "text/plain": [
              "0    0\n",
              "1    0\n",
              "2    0\n",
              "3    0\n",
              "4    0\n",
              "Name: Label, dtype: int64"
            ]
          },
          "metadata": {},
          "execution_count": 262
        }
      ]
    },
    {
      "cell_type": "code",
      "source": [
        "from sklearn.model_selection import train_test_split\n",
        "xtrain,xtest,ytrain,ytest=train_test_split(x,y,test_size=0.3,random_state=1)"
      ],
      "metadata": {
        "id": "GBqCteo_t2bP"
      },
      "execution_count": 263,
      "outputs": []
    },
    {
      "cell_type": "code",
      "source": [
        "print(xtrain)"
      ],
      "metadata": {
        "colab": {
          "base_uri": "https://localhost:8080/"
        },
        "id": "-ONleSwEt6Vu",
        "outputId": "0e06e00f-a6ab-487f-feec-a05cdc78d573"
      },
      "execution_count": 264,
      "outputs": [
        {
          "output_type": "stream",
          "name": "stdout",
          "text": [
            "     Api  Suhu  Kelembaban      PPM\n",
            "117    1  39.4          65  3724.66\n",
            "80     1  28.2          73   468.21\n",
            "88     1  28.3          73   480.10\n",
            "232    1  37.2          57   396.83\n",
            "330    0  36.2          45   619.76\n",
            "..   ...   ...         ...      ...\n",
            "203    1  30.4          73   353.83\n",
            "255    0  23.2          84     4.55\n",
            "72     0  26.7          73    52.79\n",
            "235    1  37.4          52   445.09\n",
            "37     0  26.8          74    50.89\n",
            "\n",
            "[259 rows x 4 columns]\n"
          ]
        }
      ]
    },
    {
      "cell_type": "code",
      "source": [
        "print(xtest)"
      ],
      "metadata": {
        "colab": {
          "base_uri": "https://localhost:8080/"
        },
        "id": "o5vVaAFNt7K6",
        "outputId": "aa0d5724-30c9-4b5d-bdb8-0d8bec22e7bb"
      },
      "execution_count": 265,
      "outputs": [
        {
          "output_type": "stream",
          "name": "stdout",
          "text": [
            "     Api  Suhu  Kelembaban      PPM\n",
            "207    1  31.4          66   389.42\n",
            "82     1  28.1          73   440.24\n",
            "185    0  23.6          84    70.56\n",
            "368    0  29.9          60   435.43\n",
            "65     0  26.7          74    60.84\n",
            "..   ...   ...         ...      ...\n",
            "206    1  31.2          66   385.02\n",
            "120    0  39.8          61  3295.13\n",
            "367    0  30.1          60   435.43\n",
            "249    1  36.9          58   651.39\n",
            "258    0  23.2          84     5.76\n",
            "\n",
            "[112 rows x 4 columns]\n"
          ]
        }
      ]
    },
    {
      "cell_type": "code",
      "source": [
        "#Lebih cocok pakai ini, di bagi dulu ke xtrain dan xtest\n",
        "\n",
        "from sklearn.preprocessing import   RobustScaler\n",
        "normscaler =   RobustScaler()\n",
        "xtrain = normscaler.fit_transform(xtrain)\n",
        "xtest = normscaler.fit_transform(xtest)"
      ],
      "metadata": {
        "id": "2-VYyJ1mt84L"
      },
      "execution_count": 266,
      "outputs": []
    },
    {
      "cell_type": "code",
      "source": [
        "print(xtrain)"
      ],
      "metadata": {
        "colab": {
          "base_uri": "https://localhost:8080/"
        },
        "id": "DLWkrnvFt_iP",
        "outputId": "05432e06-8ea6-4848-90ae-90b7385c1b66"
      },
      "execution_count": 267,
      "outputs": [
        {
          "output_type": "stream",
          "name": "stdout",
          "text": [
            "[[ 1.          1.33333333 -0.34782609  8.15453473]\n",
            " [ 1.          0.14814815  0.          0.90331559]\n",
            " [ 1.          0.15873016  0.          0.92979136]\n",
            " ...\n",
            " [ 0.         -0.01058201  0.         -0.02171057]\n",
            " [ 1.          1.12169312 -0.91304348  0.85183371]\n",
            " [ 0.          0.          0.04347826 -0.02594135]]\n"
          ]
        }
      ]
    },
    {
      "cell_type": "code",
      "source": [
        "print(xtest)"
      ],
      "metadata": {
        "colab": {
          "base_uri": "https://localhost:8080/"
        },
        "id": "Cy7jE2t7uEio",
        "outputId": "0bc13e0f-0984-4806-aa93-9af04a2d591a"
      },
      "execution_count": 268,
      "outputs": [
        {
          "output_type": "stream",
          "name": "stdout",
          "text": [
            "[[ 1.00000000e+00  3.26732673e-01 -2.91666667e-01  4.49913852e-03]\n",
            " [ 1.00000000e+00  0.00000000e+00  0.00000000e+00  1.08429238e-01]\n",
            " [ 0.00000000e+00 -4.45544554e-01  4.58333333e-01 -6.47589638e-01]\n",
            " [ 0.00000000e+00  1.78217822e-01 -5.41666667e-01  9.85924854e-02]\n",
            " [ 0.00000000e+00 -1.38613861e-01  4.16666667e-02 -6.67467650e-01]\n",
            " [ 0.00000000e+00  1.17821782e+00 -5.83333333e-01  3.88770559e+00]\n",
            " [ 1.00000000e+00  5.54455446e-01 -2.91666667e-01  5.32131518e+00]\n",
            " [ 0.00000000e+00 -4.65346535e-01  5.00000000e-01 -7.50272249e-01]\n",
            " [ 0.00000000e+00 -4.55445545e-01  5.00000000e-01 -7.29453508e-01]\n",
            " [ 1.00000000e+00  3.36633663e-01 -2.91666667e-01  1.39753468e+00]\n",
            " [ 0.00000000e+00  1.18811881e+00 -5.00000000e-01  4.61057400e+00]\n",
            " [ 0.00000000e+00 -4.45544554e-01  5.00000000e-01 -6.61332461e-01]\n",
            " [ 0.00000000e+00 -4.45544554e-01  4.58333333e-01 -6.95341858e-01]\n",
            " [ 0.00000000e+00 -4.55445545e-01  5.00000000e-01 -7.42950924e-01]\n",
            " [ 0.00000000e+00 -1.28712871e-01 -4.16666667e-02 -6.94605635e-01]\n",
            " [ 0.00000000e+00 -4.45544554e-01  4.58333333e-01 -6.79962984e-01]\n",
            " [ 0.00000000e+00  4.65346535e-01 -8.75000000e-01  2.69293891e-01]\n",
            " [ 1.00000000e+00  4.45544554e-01 -2.50000000e-01  6.29955060e+00]\n",
            " [ 0.00000000e+00 -4.55445545e-01  5.00000000e-01 -6.96057630e-01]\n",
            " [ 0.00000000e+00 -1.38613861e-01  4.16666667e-02 -6.96793853e-01]\n",
            " [ 1.00000000e+00  5.94059406e-01 -2.91666667e-01  3.66575491e+00]\n",
            " [ 1.00000000e+00  0.00000000e+00  5.00000000e-01  6.62866258e-01]\n",
            " [ 1.00000000e+00  2.57425743e-01 -8.33333333e-02  8.96494251e-01]\n",
            " [ 0.00000000e+00 -4.45544554e-01  5.00000000e-01 -6.87816026e-01]\n",
            " [ 0.00000000e+00 -1.28712871e-01 -4.16666667e-02 -6.80760559e-01]\n",
            " [ 1.00000000e+00  7.12871287e-01 -5.83333333e-01  6.00430486e-02]\n",
            " [ 0.00000000e+00  1.17821782e+00 -5.00000000e-01  4.98496367e+00]\n",
            " [ 1.00000000e+00  1.14851485e+00 -5.00000000e-01  5.53424714e+00]\n",
            " [ 0.00000000e+00 -1.38613861e-01  0.00000000e+00 -6.84482574e-01]\n",
            " [ 0.00000000e+00  7.52475248e-01 -1.16666667e+00  4.79792222e-01]\n",
            " [ 0.00000000e+00  5.74257426e-01 -1.00000000e+00  3.06882148e-01]\n",
            " [ 0.00000000e+00 -4.45544554e-01  5.00000000e-01 -6.65729346e-01]\n",
            " [ 0.00000000e+00 -4.45544554e-01  4.58333333e-01 -6.77529359e-01]\n",
            " [ 1.00000000e+00  9.10891089e-01 -7.91666667e-01  4.09196648e-01]\n",
            " [ 0.00000000e+00  4.05940594e-01 -6.25000000e-01  3.18334501e-01]\n",
            " [ 1.00000000e+00  8.91089109e-01 -8.75000000e-01  4.50363766e-01]\n",
            " [ 0.00000000e+00 -4.75247525e-01  4.58333333e-01 -7.53667054e-01]\n",
            " [ 0.00000000e+00 -1.28712871e-01 -4.16666667e-02 -6.93112739e-01]\n",
            " [ 0.00000000e+00 -4.45544554e-01  4.58333333e-01 -6.56853773e-01]\n",
            " [ 0.00000000e+00 -4.45544554e-01  4.58333333e-01 -6.67467650e-01]\n",
            " [ 1.00000000e+00  3.96039604e-02  0.00000000e+00  2.04035932e-01]\n",
            " [ 0.00000000e+00 -4.55445545e-01  4.58333333e-01 -6.93112739e-01]\n",
            " [ 0.00000000e+00  3.16831683e-01 -6.66666667e-01  1.11721790e-01]\n",
            " [ 0.00000000e+00  0.00000000e+00  4.58333333e-01  1.86128951e+01]\n",
            " [ 0.00000000e+00 -1.28712871e-01 -8.33333333e-02 -6.90106497e-01]\n",
            " [ 0.00000000e+00 -4.45544554e-01  5.00000000e-01 -6.72559856e-01]\n",
            " [ 0.00000000e+00 -1.28712871e-01 -4.16666667e-02 -7.03194900e-01]\n",
            " [ 1.00000000e+00  5.54455446e-01 -2.50000000e-01  2.84222851e-01]\n",
            " [ 0.00000000e+00 -4.55445545e-01  5.00000000e-01 -7.20700639e-01]\n",
            " [ 1.00000000e+00  2.97029703e-02  0.00000000e+00 -3.68724852e-02]\n",
            " [ 0.00000000e+00 -4.75247525e-01  4.58333333e-01 -7.71643157e-01]\n",
            " [ 0.00000000e+00 -1.28712871e-01  4.16666667e-02 -6.73398332e-01]\n",
            " [ 0.00000000e+00  2.47524752e-01 -5.83333333e-01  1.18347794e-01]\n",
            " [ 1.00000000e+00  3.36633663e-01  2.50000000e-01  1.93869924e+00]\n",
            " [ 0.00000000e+00  3.06930693e-01 -6.66666667e-01  6.00430486e-02]\n",
            " [ 1.00000000e+00  7.92079208e-01 -6.25000000e-01  1.35035507e-01]\n",
            " [ 0.00000000e+00 -4.85148515e-01  4.58333333e-01 -7.81111798e-01]\n",
            " [ 0.00000000e+00 -4.55445545e-01  5.00000000e-01 -6.94605635e-01]\n",
            " [ 1.00000000e+00  9.90099010e-03  0.00000000e+00  1.66059113e-02]\n",
            " [ 0.00000000e+00  2.27722772e-01 -5.41666667e-01  6.00430486e-02]\n",
            " [ 0.00000000e+00 -4.65346535e-01  4.58333333e-01 -7.62808485e-01]\n",
            " [ 0.00000000e+00 -1.28712871e-01 -4.16666667e-02 -6.79144959e-01]\n",
            " [ 0.00000000e+00 -1.28712871e-01 -4.16666667e-02 -6.90699565e-01]\n",
            " [ 1.00000000e+00  9.10891089e-01 -7.50000000e-01  8.88375351e-02]\n",
            " [ 0.00000000e+00 -4.45544554e-01  5.00000000e-01 -6.61332461e-01]\n",
            " [ 0.00000000e+00 -4.75247525e-01  4.58333333e-01 -7.63851467e-01]\n",
            " [ 1.00000000e+00  1.68316832e-01  0.00000000e+00  9.44307823e-01]\n",
            " [ 1.00000000e+00  8.21782178e-01 -7.91666667e-01  9.22916464e-01]\n",
            " [ 0.00000000e+00  5.94059406e-01 -1.00000000e+00  2.80480385e-01]\n",
            " [ 0.00000000e+00 -4.55445545e-01  5.00000000e-01 -6.98245847e-01]\n",
            " [ 0.00000000e+00 -4.45544554e-01  4.58333333e-01 -6.87059353e-01]\n",
            " [ 0.00000000e+00 -4.65346535e-01  4.58333333e-01 -7.63503806e-01]\n",
            " [ 0.00000000e+00  3.36633663e-01 -6.66666667e-01  1.15034792e-01]\n",
            " [ 0.00000000e+00  5.54455446e-01 -1.00000000e+00  1.75998119e-01]\n",
            " [ 1.00000000e+00  1.98019802e-02  0.00000000e+00  4.43369650e-02]\n",
            " [ 0.00000000e+00 -1.28712871e-01  4.16666667e-02 -6.91619843e-01]\n",
            " [ 0.00000000e+00 -4.55445545e-01  5.00000000e-01 -7.31662176e-01]\n",
            " [ 0.00000000e+00 -1.38613861e-01  0.00000000e+00 -6.67467650e-01]\n",
            " [ 1.00000000e+00  6.83168317e-01 -5.83333333e-01  1.21660796e-01]\n",
            " [ 0.00000000e+00  6.73267327e-01 -1.08333333e+00  3.22179219e-01]\n",
            " [ 0.00000000e+00 -4.55445545e-01  5.00000000e-01 -7.08634767e-01]\n",
            " [ 0.00000000e+00 -4.45544554e-01  4.58333333e-01 -6.74236808e-01]\n",
            " [ 0.00000000e+00 -4.45544554e-01  4.58333333e-01 -6.46628458e-01]\n",
            " [ 1.00000000e+00  8.51485149e-01 -6.25000000e-01  1.21660796e-01]\n",
            " [ 0.00000000e+00 -4.45544554e-01  5.00000000e-01 -6.90863170e-01]\n",
            " [ 1.00000000e+00  8.91089109e-02  0.00000000e+00  4.58728073e-01]\n",
            " [ 1.00000000e+00  7.32673267e-01 -5.83333333e-01  1.28327701e-01]\n",
            " [ 0.00000000e+00 -1.28712871e-01  8.33333333e-02 -6.88593150e-01]\n",
            " [ 0.00000000e+00 -4.45544554e-01  4.58333333e-01 -6.87816026e-01]\n",
            " [ 0.00000000e+00 -4.45544554e-01  5.00000000e-01 -6.70882905e-01]\n",
            " [ 1.00000000e+00  8.71287129e-01 -5.00000000e-01  7.50538107e-03]\n",
            " [ 1.00000000e+00  8.61386139e-01 -1.16666667e+00  5.01142679e-01]\n",
            " [ 0.00000000e+00 -1.28712871e-01  8.33333333e-02 -6.96057630e-01]\n",
            " [ 0.00000000e+00 -1.28712871e-01 -4.16666667e-02 -6.90106497e-01]\n",
            " [ 0.00000000e+00 -4.65346535e-01  5.00000000e-01 -7.30005675e-01]\n",
            " [ 0.00000000e+00  1.18811881e+00 -8.75000000e-01  5.01357411e+00]\n",
            " [ 1.00000000e+00  9.90099010e-02  0.00000000e+00  5.31470963e-01]\n",
            " [ 1.00000000e+00  9.10891089e-01 -7.91666667e-01  4.46191837e-01]\n",
            " [ 0.00000000e+00  1.58415842e-01 -5.00000000e-01  1.96530551e-02]\n",
            " [ 0.00000000e+00  0.00000000e+00  4.58333333e-01  3.19234328e-02]\n",
            " [ 0.00000000e+00 -1.28712871e-01  4.16666667e-02 -6.95525914e-01]\n",
            " [ 1.00000000e+00  4.95049505e-02  0.00000000e+00  7.50538107e-03]\n",
            " [ 0.00000000e+00 -1.28712871e-01  8.33333333e-02 -6.83930407e-01]\n",
            " [ 1.00000000e+00  8.71287129e-01 -7.91666667e-01  6.16504681e-01]\n",
            " [ 1.00000000e+00  0.00000000e+00  5.00000000e-01  8.59989877e-01]\n",
            " [ 1.00000000e+00  8.31683168e-01 -6.25000000e-01  1.21660796e-01]\n",
            " [ 0.00000000e+00 -4.45544554e-01  4.58333333e-01 -6.87816026e-01]\n",
            " [ 1.00000000e+00  3.06930693e-01 -2.91666667e-01 -4.49913852e-03]\n",
            " [ 0.00000000e+00  1.15841584e+00 -5.00000000e-01  5.94685904e+00]\n",
            " [ 0.00000000e+00  1.98019802e-01 -5.41666667e-01  9.85924854e-02]\n",
            " [ 1.00000000e+00  8.71287129e-01 -6.25000000e-01  5.40244283e-01]\n",
            " [ 0.00000000e+00 -4.85148515e-01  4.58333333e-01 -7.80109718e-01]]\n"
          ]
        }
      ]
    },
    {
      "cell_type": "code",
      "source": [
        "from sklearn.metrics import accuracy_score, f1_score, recall_score, precision_score, confusion_matrix, classification_report"
      ],
      "metadata": {
        "id": "_fMsFClRuFXo"
      },
      "execution_count": 269,
      "outputs": []
    },
    {
      "cell_type": "code",
      "source": [
        "from sklearn.neighbors import KNeighborsClassifier\n",
        "knn=KNeighborsClassifier()\n",
        "knn.fit(xtrain,ytrain)\n",
        "ypred=knn.predict(xtest)"
      ],
      "metadata": {
        "id": "dcYqa9M9uJOA"
      },
      "execution_count": 270,
      "outputs": []
    },
    {
      "cell_type": "code",
      "source": [
        "accuracy=[]\n",
        "for i in range(1,50):\n",
        "    knn=KNeighborsClassifier(n_neighbors=i)\n",
        "    knn.fit(xtrain,ytrain)\n",
        "    ypred=knn.predict(xtest)\n",
        "    ac=accuracy_score(ytest,ypred)\n",
        "    accuracy.append(ac)"
      ],
      "metadata": {
        "id": "QZM5UNomuMn0"
      },
      "execution_count": 271,
      "outputs": []
    },
    {
      "cell_type": "code",
      "source": [
        "plt.plot(range(1,50),accuracy)\n",
        "plt.grid(True)\n",
        "plt.show()"
      ],
      "metadata": {
        "colab": {
          "base_uri": "https://localhost:8080/",
          "height": 265
        },
        "id": "IooLkr7buOh4",
        "outputId": "a12b2ec0-8593-4b81-9b17-929bd4000821"
      },
      "execution_count": 272,
      "outputs": [
        {
          "output_type": "display_data",
          "data": {
            "text/plain": [
              "<Figure size 432x288 with 1 Axes>"
            ],
            "image/png": "[encoded data removed]"
          },
          "metadata": {
            "needs_background": "light"
          }
        }
      ]
    },
    {
      "cell_type": "code",
      "source": [
        "knn=KNeighborsClassifier(n_neighbors=2)\n",
        "knn.fit(xtrain,ytrain)\n",
        "ypred=knn.predict(xtest)"
      ],
      "metadata": {
        "id": "DitQnzeFuQY-"
      },
      "execution_count": 273,
      "outputs": []
    },
    {
      "cell_type": "code",
      "source": [
        "print(classification_report(ytest,ypred))"
      ],
      "metadata": {
        "colab": {
          "base_uri": "https://localhost:8080/"
        },
        "id": "pjHRluYbuQ-B",
        "outputId": "1f55d2c6-f115-4cb8-b537-071e29678756"
      },
      "execution_count": 274,
      "outputs": [
        {
          "output_type": "stream",
          "name": "stdout",
          "text": [
            "              precision    recall  f1-score   support\n",
            "\n",
            "           0       0.89      1.00      0.94        54\n",
            "           1       1.00      0.88      0.94        58\n",
            "\n",
            "    accuracy                           0.94       112\n",
            "   macro avg       0.94      0.94      0.94       112\n",
            "weighted avg       0.94      0.94      0.94       112\n",
            "\n"
          ]
        }
      ]
    },
    {
      "cell_type": "code",
      "source": [
        "confusion_matrix(ytest,ypred)"
      ],
      "metadata": {
        "colab": {
          "base_uri": "https://localhost:8080/"
        },
        "id": "KJgGx9rcuSxW",
        "outputId": "da79bdaa-b1e6-45ad-aa9f-88fca2cd34d1"
      },
      "execution_count": 275,
      "outputs": [
        {
          "output_type": "execute_result",
          "data": {
            "text/plain": [
              "array([[54,  0],\n",
              "       [ 7, 51]])"
            ]
          },
          "metadata": {},
          "execution_count": 275
        }
      ]
    },
    {
      "cell_type": "code",
      "source": [
        "accuracy_score(ytest,ypred)"
      ],
      "metadata": {
        "colab": {
          "base_uri": "https://localhost:8080/"
        },
        "id": "-kZBAQeiuV_4",
        "outputId": "f2fb86a1-961c-4e24-bc9c-d22415e86a43"
      },
      "execution_count": 276,
      "outputs": [
        {
          "output_type": "execute_result",
          "data": {
            "text/plain": [
              "0.9375"
            ]
          },
          "metadata": {},
          "execution_count": 276
        }
      ]
    }
  ]
}