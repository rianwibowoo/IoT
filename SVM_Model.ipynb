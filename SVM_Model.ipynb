{
  "cells": [
    {
      "cell_type": "code",
      "execution_count": null,
      "metadata": {
        "id": "UliYFD2WQMMp"
      },
      "outputs": [],
      "source": [
        "!pip install git+https://github.com/adarsh1001/micro-learn"
      ]
    },
    {
      "cell_type": "code",
      "execution_count": null,
      "metadata": {
        "id": "JKfiqWroPuWz"
      },
      "outputs": [],
      "source": [
        "import numpy as np\n",
        "import pandas as pd\n",
        "from microlearn.offloader import Offload\n",
        "from sklearn.preprocessing import StandardScaler\n",
        "from sklearn.svm import SVC # Or you can use LinearSVC"
      ]
    },
    {
      "cell_type": "code",
      "execution_count": null,
      "metadata": {
        "id": "SJTGz9RvQYYN"
      },
      "outputs": [],
      "source": [
        "dataset = pd.read_csv('Dataset.txt', sep=',', header=0)\n",
        "X_train = dataset.loc[:, 'Suhu':'Kelembaban'].to_numpy()\n",
        "Y_train = dataset.loc[:, 'Label'].to_numpy()"
      ]
    },
    {
      "cell_type": "code",
      "execution_count": null,
      "metadata": {
        "id": "6xs0GDrbQd_a"
      },
      "outputs": [],
      "source": [
        "ss = StandardScaler()\n",
        "X_train_ss = ss.fit_transform(X_train)\n",
        "linsvm = SVC(C=0.1, kernel='linear') # Or LinearSVC(C=0.1)\n",
        "linsvm.fit(X_train_ss, Y_train)"
      ]
    },
    {
      "cell_type": "code",
      "execution_count": null,
      "metadata": {
        "id": "6WgU92bwQilu"
      },
      "outputs": [],
      "source": [
        "off = Offload(linsvm, ss)\n",
        "off.export_to_arduino('linsvm_offload.ino')"
      ]
    }
  ],
  "metadata": {
    "colab": {
      "provenance": []
    },
    "kernelspec": {
      "display_name": "Python 3",
      "name": "python3"
    },
    "language_info": {
      "name": "python"
    }
  },
  "nbformat": 4,
  "nbformat_minor": 0
}