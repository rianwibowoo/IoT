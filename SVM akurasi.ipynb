{
  "cells": [
    {
      "cell_type": "code",
      "execution_count": 750,
      "metadata": {
        "id": "JkuTYAwoOxRy"
      },
      "outputs": [],
      "source": [
        "import numpy as np\n",
        "import pandas as pd\n",
        "import matplotlib.pyplot as plt\n",
        "import seaborn as sns\n",
        "from sklearn.preprocessing import LabelEncoder\n",
        "from sklearn.metrics import accuracy_score, confusion_matrix, classification_report\n",
        "from sklearn.svm import SVC\n",
        "from sklearn.model_selection import train_test_split"
      ]
    },
    {
      "cell_type": "code",
      "execution_count": 751,
      "metadata": {
        "id": "C7aKHYFRPCiV"
      },
      "outputs": [],
      "source": [
        "dataset = pd.read_csv('Dataset.csv')"
      ]
    },
    {
      "cell_type": "code",
      "execution_count": 752,
      "metadata": {
        "colab": {
          "base_uri": "https://localhost:8080/",
          "height": 206
        },
        "id": "IV0PS5g3PFvK",
        "outputId": "8309193c-9c5b-43c7-b0ee-600e514b424d"
      },
      "outputs": [
        {
          "output_type": "execute_result",
          "data": {
            "text/plain": [
              "      Time  Api  Suhu  Kelembaban    PPM            Label\n",
              "0  1:33:59    0  26.9          72  50.14  Tidak Kebakaran\n",
              "1  1:34:03    0  26.8          72  50.89  Tidak Kebakaran\n",
              "2  1:34:06    0  26.9          72  49.77  Tidak Kebakaran\n",
              "3  1:34:10    0  26.9          72  51.64  Tidak Kebakaran\n",
              "4  1:34:14    0  26.8          72  54.34  Tidak Kebakaran"
            ],
            "text/html": [
              "\n",
              "  <div id=\"df-b4940ae1-0331-4f3c-a48b-195283b51190\">\n",
              "    <div class=\"colab-df-container\">\n",
              "      <div>\n",
              "<style scoped>\n",
              "    .dataframe tbody tr th:only-of-type {\n",
              "        vertical-align: middle;\n",
              "    }\n",
              "\n",
              "    .dataframe tbody tr th {\n",
              "        vertical-align: top;\n",
              "    }\n",
              "\n",
              "    .dataframe thead th {\n",
              "        text-align: right;\n",
              "    }\n",
              "</style>\n",
              "<table border=\"1\" class=\"dataframe\">\n",
              "  <thead>\n",
              "    <tr style=\"text-align: right;\">\n",
              "      <th></th>\n",
              "      <th>Time</th>\n",
              "      <th>Api</th>\n",
              "      <th>Suhu</th>\n",
              "      <th>Kelembaban</th>\n",
              "      <th>PPM</th>\n",
              "      <th>Label</th>\n",
              "    </tr>\n",
              "  </thead>\n",
              "  <tbody>\n",
              "    <tr>\n",
              "      <th>0</th>\n",
              "      <td>1:33:59</td>\n",
              "      <td>0</td>\n",
              "      <td>26.9</td>\n",
              "      <td>72</td>\n",
              "      <td>50.14</td>\n",
              "      <td>Tidak Kebakaran</td>\n",
              "    </tr>\n",
              "    <tr>\n",
              "      <th>1</th>\n",
              "      <td>1:34:03</td>\n",
              "      <td>0</td>\n",
              "      <td>26.8</td>\n",
              "      <td>72</td>\n",
              "      <td>50.89</td>\n",
              "      <td>Tidak Kebakaran</td>\n",
              "    </tr>\n",
              "    <tr>\n",
              "      <th>2</th>\n",
              "      <td>1:34:06</td>\n",
              "      <td>0</td>\n",
              "      <td>26.9</td>\n",
              "      <td>72</td>\n",
              "      <td>49.77</td>\n",
              "      <td>Tidak Kebakaran</td>\n",
              "    </tr>\n",
              "    <tr>\n",
              "      <th>3</th>\n",
              "      <td>1:34:10</td>\n",
              "      <td>0</td>\n",
              "      <td>26.9</td>\n",
              "      <td>72</td>\n",
              "      <td>51.64</td>\n",
              "      <td>Tidak Kebakaran</td>\n",
              "    </tr>\n",
              "    <tr>\n",
              "      <th>4</th>\n",
              "      <td>1:34:14</td>\n",
              "      <td>0</td>\n",
              "      <td>26.8</td>\n",
              "      <td>72</td>\n",
              "      <td>54.34</td>\n",
              "      <td>Tidak Kebakaran</td>\n",
              "    </tr>\n",
              "  </tbody>\n",
              "</table>\n",
              "</div>\n",
              "      <button class=\"colab-df-convert\" onclick=\"convertToInteractive('df-b4940ae1-0331-4f3c-a48b-195283b51190')\"\n",
              "              title=\"Convert this dataframe to an interactive table.\"\n",
              "              style=\"display:none;\">\n",
              "        \n",
              "  <svg xmlns=\"http://www.w3.org/2000/svg\" height=\"24px\"viewBox=\"0 0 24 24\"\n",
              "       width=\"24px\">\n",
              "    <path d=\"M0 0h24v24H0V0z\" fill=\"none\"/>\n",
              "    <path d=\"M18.56 5.44l.94 2.06.94-2.06 2.06-.94-2.06-.94-.94-2.06-.94 2.06-2.06.94zm-11 1L8.5 8.5l.94-2.06 2.06-.94-2.06-.94L8.5 2.5l-.94 2.06-2.06.94zm10 10l.94 2.06.94-2.06 2.06-.94-2.06-.94-.94-2.06-.94 2.06-2.06.94z\"/><path d=\"M17.41 7.96l-1.37-1.37c-.4-.4-.92-.59-1.43-.59-.52 0-1.04.2-1.43.59L10.3 9.45l-7.72 7.72c-.78.78-.78 2.05 0 2.83L4 21.41c.39.39.9.59 1.41.59.51 0 1.02-.2 1.41-.59l7.78-7.78 2.81-2.81c.8-.78.8-2.07 0-2.86zM5.41 20L4 18.59l7.72-7.72 1.47 1.35L5.41 20z\"/>\n",
              "  </svg>\n",
              "      </button>\n",
              "      \n",
              "  <style>\n",
              "    .colab-df-container {\n",
              "      display:flex;\n",
              "      flex-wrap:wrap;\n",
              "      gap: 12px;\n",
              "    }\n",
              "\n",
              "    .colab-df-convert {\n",
              "      background-color: #E8F0FE;\n",
              "      border: none;\n",
              "      border-radius: 50%;\n",
              "      cursor: pointer;\n",
              "      display: none;\n",
              "      fill: #1967D2;\n",
              "      height: 32px;\n",
              "      padding: 0 0 0 0;\n",
              "      width: 32px;\n",
              "    }\n",
              "\n",
              "    .colab-df-convert:hover {\n",
              "      background-color: #E2EBFA;\n",
              "      box-shadow: 0px 1px 2px rgba(60, 64, 67, 0.3), 0px 1px 3px 1px rgba(60, 64, 67, 0.15);\n",
              "      fill: #174EA6;\n",
              "    }\n",
              "\n",
              "    [theme=dark] .colab-df-convert {\n",
              "      background-color: #3B4455;\n",
              "      fill: #D2E3FC;\n",
              "    }\n",
              "\n",
              "    [theme=dark] .colab-df-convert:hover {\n",
              "      background-color: #434B5C;\n",
              "      box-shadow: 0px 1px 3px 1px rgba(0, 0, 0, 0.15);\n",
              "      filter: drop-shadow(0px 1px 2px rgba(0, 0, 0, 0.3));\n",
              "      fill: #FFFFFF;\n",
              "    }\n",
              "  </style>\n",
              "\n",
              "      <script>\n",
              "        const buttonEl =\n",
              "          document.querySelector('#df-b4940ae1-0331-4f3c-a48b-195283b51190 button.colab-df-convert');\n",
              "        buttonEl.style.display =\n",
              "          google.colab.kernel.accessAllowed ? 'block' : 'none';\n",
              "\n",
              "        async function convertToInteractive(key) {\n",
              "          const element = document.querySelector('#df-b4940ae1-0331-4f3c-a48b-195283b51190');\n",
              "          const dataTable =\n",
              "            await google.colab.kernel.invokeFunction('convertToInteractive',\n",
              "                                                     [key], {});\n",
              "          if (!dataTable) return;\n",
              "\n",
              "          const docLinkHtml = 'Like what you see? Visit the ' +\n",
              "            '<a target=\"_blank\" href=https://colab.research.google.com/notebooks/data_table.ipynb>data table notebook</a>'\n",
              "            + ' to learn more about interactive tables.';\n",
              "          element.innerHTML = '';\n",
              "          dataTable['output_type'] = 'display_data';\n",
              "          await google.colab.output.renderOutput(dataTable, element);\n",
              "          const docLink = document.createElement('div');\n",
              "          docLink.innerHTML = docLinkHtml;\n",
              "          element.appendChild(docLink);\n",
              "        }\n",
              "      </script>\n",
              "    </div>\n",
              "  </div>\n",
              "  "
            ]
          },
          "metadata": {},
          "execution_count": 752
        }
      ],
      "source": [
        "dataset.head()"
      ]
    },
    {
      "cell_type": "code",
      "execution_count": 753,
      "metadata": {
        "colab": {
          "base_uri": "https://localhost:8080/"
        },
        "id": "820-aQqpPfjo",
        "outputId": "644d3a2c-f0da-4c5a-d658-b5016325a718"
      },
      "outputs": [
        {
          "output_type": "stream",
          "name": "stderr",
          "text": [
            "/usr/local/lib/python3.8/dist-packages/sklearn/preprocessing/_label.py:115: DataConversionWarning: A column-vector y was passed when a 1d array was expected. Please change the shape of y to (n_samples, ), for example using ravel().\n",
            "  y = column_or_1d(y, warn=True)\n"
          ]
        }
      ],
      "source": [
        "le=LabelEncoder()\n",
        "dataset[\"Label\"]=le.fit_transform(dataset[[\"Label\"]])"
      ]
    },
    {
      "cell_type": "code",
      "execution_count": 754,
      "metadata": {
        "colab": {
          "base_uri": "https://localhost:8080/",
          "height": 206
        },
        "id": "ZpKZWORJPjsS",
        "outputId": "6d688878-0b50-4bb4-8587-d8e7680ea5e9"
      },
      "outputs": [
        {
          "output_type": "execute_result",
          "data": {
            "text/plain": [
              "      Time  Api  Suhu  Kelembaban    PPM  Label\n",
              "0  1:33:59    0  26.9          72  50.14      0\n",
              "1  1:34:03    0  26.8          72  50.89      0\n",
              "2  1:34:06    0  26.9          72  49.77      0\n",
              "3  1:34:10    0  26.9          72  51.64      0\n",
              "4  1:34:14    0  26.8          72  54.34      0"
            ],
            "text/html": [
              "\n",
              "  <div id=\"df-5577ada6-0c02-4cc3-a540-aaedc8a96a98\">\n",
              "    <div class=\"colab-df-container\">\n",
              "      <div>\n",
              "<style scoped>\n",
              "    .dataframe tbody tr th:only-of-type {\n",
              "        vertical-align: middle;\n",
              "    }\n",
              "\n",
              "    .dataframe tbody tr th {\n",
              "        vertical-align: top;\n",
              "    }\n",
              "\n",
              "    .dataframe thead th {\n",
              "        text-align: right;\n",
              "    }\n",
              "</style>\n",
              "<table border=\"1\" class=\"dataframe\">\n",
              "  <thead>\n",
              "    <tr style=\"text-align: right;\">\n",
              "      <th></th>\n",
              "      <th>Time</th>\n",
              "      <th>Api</th>\n",
              "      <th>Suhu</th>\n",
              "      <th>Kelembaban</th>\n",
              "      <th>PPM</th>\n",
              "      <th>Label</th>\n",
              "    </tr>\n",
              "  </thead>\n",
              "  <tbody>\n",
              "    <tr>\n",
              "      <th>0</th>\n",
              "      <td>1:33:59</td>\n",
              "      <td>0</td>\n",
              "      <td>26.9</td>\n",
              "      <td>72</td>\n",
              "      <td>50.14</td>\n",
              "      <td>0</td>\n",
              "    </tr>\n",
              "    <tr>\n",
              "      <th>1</th>\n",
              "      <td>1:34:03</td>\n",
              "      <td>0</td>\n",
              "      <td>26.8</td>\n",
              "      <td>72</td>\n",
              "      <td>50.89</td>\n",
              "      <td>0</td>\n",
              "    </tr>\n",
              "    <tr>\n",
              "      <th>2</th>\n",
              "      <td>1:34:06</td>\n",
              "      <td>0</td>\n",
              "      <td>26.9</td>\n",
              "      <td>72</td>\n",
              "      <td>49.77</td>\n",
              "      <td>0</td>\n",
              "    </tr>\n",
              "    <tr>\n",
              "      <th>3</th>\n",
              "      <td>1:34:10</td>\n",
              "      <td>0</td>\n",
              "      <td>26.9</td>\n",
              "      <td>72</td>\n",
              "      <td>51.64</td>\n",
              "      <td>0</td>\n",
              "    </tr>\n",
              "    <tr>\n",
              "      <th>4</th>\n",
              "      <td>1:34:14</td>\n",
              "      <td>0</td>\n",
              "      <td>26.8</td>\n",
              "      <td>72</td>\n",
              "      <td>54.34</td>\n",
              "      <td>0</td>\n",
              "    </tr>\n",
              "  </tbody>\n",
              "</table>\n",
              "</div>\n",
              "      <button class=\"colab-df-convert\" onclick=\"convertToInteractive('df-5577ada6-0c02-4cc3-a540-aaedc8a96a98')\"\n",
              "              title=\"Convert this dataframe to an interactive table.\"\n",
              "              style=\"display:none;\">\n",
              "        \n",
              "  <svg xmlns=\"http://www.w3.org/2000/svg\" height=\"24px\"viewBox=\"0 0 24 24\"\n",
              "       width=\"24px\">\n",
              "    <path d=\"M0 0h24v24H0V0z\" fill=\"none\"/>\n",
              "    <path d=\"M18.56 5.44l.94 2.06.94-2.06 2.06-.94-2.06-.94-.94-2.06-.94 2.06-2.06.94zm-11 1L8.5 8.5l.94-2.06 2.06-.94-2.06-.94L8.5 2.5l-.94 2.06-2.06.94zm10 10l.94 2.06.94-2.06 2.06-.94-2.06-.94-.94-2.06-.94 2.06-2.06.94z\"/><path d=\"M17.41 7.96l-1.37-1.37c-.4-.4-.92-.59-1.43-.59-.52 0-1.04.2-1.43.59L10.3 9.45l-7.72 7.72c-.78.78-.78 2.05 0 2.83L4 21.41c.39.39.9.59 1.41.59.51 0 1.02-.2 1.41-.59l7.78-7.78 2.81-2.81c.8-.78.8-2.07 0-2.86zM5.41 20L4 18.59l7.72-7.72 1.47 1.35L5.41 20z\"/>\n",
              "  </svg>\n",
              "      </button>\n",
              "      \n",
              "  <style>\n",
              "    .colab-df-container {\n",
              "      display:flex;\n",
              "      flex-wrap:wrap;\n",
              "      gap: 12px;\n",
              "    }\n",
              "\n",
              "    .colab-df-convert {\n",
              "      background-color: #E8F0FE;\n",
              "      border: none;\n",
              "      border-radius: 50%;\n",
              "      cursor: pointer;\n",
              "      display: none;\n",
              "      fill: #1967D2;\n",
              "      height: 32px;\n",
              "      padding: 0 0 0 0;\n",
              "      width: 32px;\n",
              "    }\n",
              "\n",
              "    .colab-df-convert:hover {\n",
              "      background-color: #E2EBFA;\n",
              "      box-shadow: 0px 1px 2px rgba(60, 64, 67, 0.3), 0px 1px 3px 1px rgba(60, 64, 67, 0.15);\n",
              "      fill: #174EA6;\n",
              "    }\n",
              "\n",
              "    [theme=dark] .colab-df-convert {\n",
              "      background-color: #3B4455;\n",
              "      fill: #D2E3FC;\n",
              "    }\n",
              "\n",
              "    [theme=dark] .colab-df-convert:hover {\n",
              "      background-color: #434B5C;\n",
              "      box-shadow: 0px 1px 3px 1px rgba(0, 0, 0, 0.15);\n",
              "      filter: drop-shadow(0px 1px 2px rgba(0, 0, 0, 0.3));\n",
              "      fill: #FFFFFF;\n",
              "    }\n",
              "  </style>\n",
              "\n",
              "      <script>\n",
              "        const buttonEl =\n",
              "          document.querySelector('#df-5577ada6-0c02-4cc3-a540-aaedc8a96a98 button.colab-df-convert');\n",
              "        buttonEl.style.display =\n",
              "          google.colab.kernel.accessAllowed ? 'block' : 'none';\n",
              "\n",
              "        async function convertToInteractive(key) {\n",
              "          const element = document.querySelector('#df-5577ada6-0c02-4cc3-a540-aaedc8a96a98');\n",
              "          const dataTable =\n",
              "            await google.colab.kernel.invokeFunction('convertToInteractive',\n",
              "                                                     [key], {});\n",
              "          if (!dataTable) return;\n",
              "\n",
              "          const docLinkHtml = 'Like what you see? Visit the ' +\n",
              "            '<a target=\"_blank\" href=https://colab.research.google.com/notebooks/data_table.ipynb>data table notebook</a>'\n",
              "            + ' to learn more about interactive tables.';\n",
              "          element.innerHTML = '';\n",
              "          dataTable['output_type'] = 'display_data';\n",
              "          await google.colab.output.renderOutput(dataTable, element);\n",
              "          const docLink = document.createElement('div');\n",
              "          docLink.innerHTML = docLinkHtml;\n",
              "          element.appendChild(docLink);\n",
              "        }\n",
              "      </script>\n",
              "    </div>\n",
              "  </div>\n",
              "  "
            ]
          },
          "metadata": {},
          "execution_count": 754
        }
      ],
      "source": [
        "dataset.head()"
      ]
    },
    {
      "cell_type": "code",
      "execution_count": 755,
      "metadata": {
        "colab": {
          "base_uri": "https://localhost:8080/",
          "height": 206
        },
        "id": "8rr1bK-kPrSD",
        "outputId": "7c3e6b03-af79-409b-8077-1ce6e9c6c20a"
      },
      "outputs": [
        {
          "output_type": "execute_result",
          "data": {
            "text/plain": [
              "   Api  Suhu  Kelembaban    PPM  Label\n",
              "0    0  26.9          72  50.14      0\n",
              "1    0  26.8          72  50.89      0\n",
              "2    0  26.9          72  49.77      0\n",
              "3    0  26.9          72  51.64      0\n",
              "4    0  26.8          72  54.34      0"
            ],
            "text/html": [
              "\n",
              "  <div id=\"df-4411f047-3810-4dd4-b337-2d290a69dd20\">\n",
              "    <div class=\"colab-df-container\">\n",
              "      <div>\n",
              "<style scoped>\n",
              "    .dataframe tbody tr th:only-of-type {\n",
              "        vertical-align: middle;\n",
              "    }\n",
              "\n",
              "    .dataframe tbody tr th {\n",
              "        vertical-align: top;\n",
              "    }\n",
              "\n",
              "    .dataframe thead th {\n",
              "        text-align: right;\n",
              "    }\n",
              "</style>\n",
              "<table border=\"1\" class=\"dataframe\">\n",
              "  <thead>\n",
              "    <tr style=\"text-align: right;\">\n",
              "      <th></th>\n",
              "      <th>Api</th>\n",
              "      <th>Suhu</th>\n",
              "      <th>Kelembaban</th>\n",
              "      <th>PPM</th>\n",
              "      <th>Label</th>\n",
              "    </tr>\n",
              "  </thead>\n",
              "  <tbody>\n",
              "    <tr>\n",
              "      <th>0</th>\n",
              "      <td>0</td>\n",
              "      <td>26.9</td>\n",
              "      <td>72</td>\n",
              "      <td>50.14</td>\n",
              "      <td>0</td>\n",
              "    </tr>\n",
              "    <tr>\n",
              "      <th>1</th>\n",
              "      <td>0</td>\n",
              "      <td>26.8</td>\n",
              "      <td>72</td>\n",
              "      <td>50.89</td>\n",
              "      <td>0</td>\n",
              "    </tr>\n",
              "    <tr>\n",
              "      <th>2</th>\n",
              "      <td>0</td>\n",
              "      <td>26.9</td>\n",
              "      <td>72</td>\n",
              "      <td>49.77</td>\n",
              "      <td>0</td>\n",
              "    </tr>\n",
              "    <tr>\n",
              "      <th>3</th>\n",
              "      <td>0</td>\n",
              "      <td>26.9</td>\n",
              "      <td>72</td>\n",
              "      <td>51.64</td>\n",
              "      <td>0</td>\n",
              "    </tr>\n",
              "    <tr>\n",
              "      <th>4</th>\n",
              "      <td>0</td>\n",
              "      <td>26.8</td>\n",
              "      <td>72</td>\n",
              "      <td>54.34</td>\n",
              "      <td>0</td>\n",
              "    </tr>\n",
              "  </tbody>\n",
              "</table>\n",
              "</div>\n",
              "      <button class=\"colab-df-convert\" onclick=\"convertToInteractive('df-4411f047-3810-4dd4-b337-2d290a69dd20')\"\n",
              "              title=\"Convert this dataframe to an interactive table.\"\n",
              "              style=\"display:none;\">\n",
              "        \n",
              "  <svg xmlns=\"http://www.w3.org/2000/svg\" height=\"24px\"viewBox=\"0 0 24 24\"\n",
              "       width=\"24px\">\n",
              "    <path d=\"M0 0h24v24H0V0z\" fill=\"none\"/>\n",
              "    <path d=\"M18.56 5.44l.94 2.06.94-2.06 2.06-.94-2.06-.94-.94-2.06-.94 2.06-2.06.94zm-11 1L8.5 8.5l.94-2.06 2.06-.94-2.06-.94L8.5 2.5l-.94 2.06-2.06.94zm10 10l.94 2.06.94-2.06 2.06-.94-2.06-.94-.94-2.06-.94 2.06-2.06.94z\"/><path d=\"M17.41 7.96l-1.37-1.37c-.4-.4-.92-.59-1.43-.59-.52 0-1.04.2-1.43.59L10.3 9.45l-7.72 7.72c-.78.78-.78 2.05 0 2.83L4 21.41c.39.39.9.59 1.41.59.51 0 1.02-.2 1.41-.59l7.78-7.78 2.81-2.81c.8-.78.8-2.07 0-2.86zM5.41 20L4 18.59l7.72-7.72 1.47 1.35L5.41 20z\"/>\n",
              "  </svg>\n",
              "      </button>\n",
              "      \n",
              "  <style>\n",
              "    .colab-df-container {\n",
              "      display:flex;\n",
              "      flex-wrap:wrap;\n",
              "      gap: 12px;\n",
              "    }\n",
              "\n",
              "    .colab-df-convert {\n",
              "      background-color: #E8F0FE;\n",
              "      border: none;\n",
              "      border-radius: 50%;\n",
              "      cursor: pointer;\n",
              "      display: none;\n",
              "      fill: #1967D2;\n",
              "      height: 32px;\n",
              "      padding: 0 0 0 0;\n",
              "      width: 32px;\n",
              "    }\n",
              "\n",
              "    .colab-df-convert:hover {\n",
              "      background-color: #E2EBFA;\n",
              "      box-shadow: 0px 1px 2px rgba(60, 64, 67, 0.3), 0px 1px 3px 1px rgba(60, 64, 67, 0.15);\n",
              "      fill: #174EA6;\n",
              "    }\n",
              "\n",
              "    [theme=dark] .colab-df-convert {\n",
              "      background-color: #3B4455;\n",
              "      fill: #D2E3FC;\n",
              "    }\n",
              "\n",
              "    [theme=dark] .colab-df-convert:hover {\n",
              "      background-color: #434B5C;\n",
              "      box-shadow: 0px 1px 3px 1px rgba(0, 0, 0, 0.15);\n",
              "      filter: drop-shadow(0px 1px 2px rgba(0, 0, 0, 0.3));\n",
              "      fill: #FFFFFF;\n",
              "    }\n",
              "  </style>\n",
              "\n",
              "      <script>\n",
              "        const buttonEl =\n",
              "          document.querySelector('#df-4411f047-3810-4dd4-b337-2d290a69dd20 button.colab-df-convert');\n",
              "        buttonEl.style.display =\n",
              "          google.colab.kernel.accessAllowed ? 'block' : 'none';\n",
              "\n",
              "        async function convertToInteractive(key) {\n",
              "          const element = document.querySelector('#df-4411f047-3810-4dd4-b337-2d290a69dd20');\n",
              "          const dataTable =\n",
              "            await google.colab.kernel.invokeFunction('convertToInteractive',\n",
              "                                                     [key], {});\n",
              "          if (!dataTable) return;\n",
              "\n",
              "          const docLinkHtml = 'Like what you see? Visit the ' +\n",
              "            '<a target=\"_blank\" href=https://colab.research.google.com/notebooks/data_table.ipynb>data table notebook</a>'\n",
              "            + ' to learn more about interactive tables.';\n",
              "          element.innerHTML = '';\n",
              "          dataTable['output_type'] = 'display_data';\n",
              "          await google.colab.output.renderOutput(dataTable, element);\n",
              "          const docLink = document.createElement('div');\n",
              "          docLink.innerHTML = docLinkHtml;\n",
              "          element.appendChild(docLink);\n",
              "        }\n",
              "      </script>\n",
              "    </div>\n",
              "  </div>\n",
              "  "
            ]
          },
          "metadata": {},
          "execution_count": 755
        }
      ],
      "source": [
        "dataset = dataset.iloc[:,1:]\n",
        "dataset.head()"
      ]
    },
    {
      "cell_type": "code",
      "execution_count": 756,
      "metadata": {
        "colab": {
          "base_uri": "https://localhost:8080/",
          "height": 206
        },
        "id": "iiQx6aqWPvC-",
        "outputId": "0844b3c2-5628-4d62-c131-c9c087cf2f83"
      },
      "outputs": [
        {
          "output_type": "execute_result",
          "data": {
            "text/plain": [
              "   Api  Suhu  Kelembaban    PPM\n",
              "0    0  26.9          72  50.14\n",
              "1    0  26.8          72  50.89\n",
              "2    0  26.9          72  49.77\n",
              "3    0  26.9          72  51.64\n",
              "4    0  26.8          72  54.34"
            ],
            "text/html": [
              "\n",
              "  <div id=\"df-d83740fc-ac22-41b6-a378-f4d9b355d46f\">\n",
              "    <div class=\"colab-df-container\">\n",
              "      <div>\n",
              "<style scoped>\n",
              "    .dataframe tbody tr th:only-of-type {\n",
              "        vertical-align: middle;\n",
              "    }\n",
              "\n",
              "    .dataframe tbody tr th {\n",
              "        vertical-align: top;\n",
              "    }\n",
              "\n",
              "    .dataframe thead th {\n",
              "        text-align: right;\n",
              "    }\n",
              "</style>\n",
              "<table border=\"1\" class=\"dataframe\">\n",
              "  <thead>\n",
              "    <tr style=\"text-align: right;\">\n",
              "      <th></th>\n",
              "      <th>Api</th>\n",
              "      <th>Suhu</th>\n",
              "      <th>Kelembaban</th>\n",
              "      <th>PPM</th>\n",
              "    </tr>\n",
              "  </thead>\n",
              "  <tbody>\n",
              "    <tr>\n",
              "      <th>0</th>\n",
              "      <td>0</td>\n",
              "      <td>26.9</td>\n",
              "      <td>72</td>\n",
              "      <td>50.14</td>\n",
              "    </tr>\n",
              "    <tr>\n",
              "      <th>1</th>\n",
              "      <td>0</td>\n",
              "      <td>26.8</td>\n",
              "      <td>72</td>\n",
              "      <td>50.89</td>\n",
              "    </tr>\n",
              "    <tr>\n",
              "      <th>2</th>\n",
              "      <td>0</td>\n",
              "      <td>26.9</td>\n",
              "      <td>72</td>\n",
              "      <td>49.77</td>\n",
              "    </tr>\n",
              "    <tr>\n",
              "      <th>3</th>\n",
              "      <td>0</td>\n",
              "      <td>26.9</td>\n",
              "      <td>72</td>\n",
              "      <td>51.64</td>\n",
              "    </tr>\n",
              "    <tr>\n",
              "      <th>4</th>\n",
              "      <td>0</td>\n",
              "      <td>26.8</td>\n",
              "      <td>72</td>\n",
              "      <td>54.34</td>\n",
              "    </tr>\n",
              "  </tbody>\n",
              "</table>\n",
              "</div>\n",
              "      <button class=\"colab-df-convert\" onclick=\"convertToInteractive('df-d83740fc-ac22-41b6-a378-f4d9b355d46f')\"\n",
              "              title=\"Convert this dataframe to an interactive table.\"\n",
              "              style=\"display:none;\">\n",
              "        \n",
              "  <svg xmlns=\"http://www.w3.org/2000/svg\" height=\"24px\"viewBox=\"0 0 24 24\"\n",
              "       width=\"24px\">\n",
              "    <path d=\"M0 0h24v24H0V0z\" fill=\"none\"/>\n",
              "    <path d=\"M18.56 5.44l.94 2.06.94-2.06 2.06-.94-2.06-.94-.94-2.06-.94 2.06-2.06.94zm-11 1L8.5 8.5l.94-2.06 2.06-.94-2.06-.94L8.5 2.5l-.94 2.06-2.06.94zm10 10l.94 2.06.94-2.06 2.06-.94-2.06-.94-.94-2.06-.94 2.06-2.06.94z\"/><path d=\"M17.41 7.96l-1.37-1.37c-.4-.4-.92-.59-1.43-.59-.52 0-1.04.2-1.43.59L10.3 9.45l-7.72 7.72c-.78.78-.78 2.05 0 2.83L4 21.41c.39.39.9.59 1.41.59.51 0 1.02-.2 1.41-.59l7.78-7.78 2.81-2.81c.8-.78.8-2.07 0-2.86zM5.41 20L4 18.59l7.72-7.72 1.47 1.35L5.41 20z\"/>\n",
              "  </svg>\n",
              "      </button>\n",
              "      \n",
              "  <style>\n",
              "    .colab-df-container {\n",
              "      display:flex;\n",
              "      flex-wrap:wrap;\n",
              "      gap: 12px;\n",
              "    }\n",
              "\n",
              "    .colab-df-convert {\n",
              "      background-color: #E8F0FE;\n",
              "      border: none;\n",
              "      border-radius: 50%;\n",
              "      cursor: pointer;\n",
              "      display: none;\n",
              "      fill: #1967D2;\n",
              "      height: 32px;\n",
              "      padding: 0 0 0 0;\n",
              "      width: 32px;\n",
              "    }\n",
              "\n",
              "    .colab-df-convert:hover {\n",
              "      background-color: #E2EBFA;\n",
              "      box-shadow: 0px 1px 2px rgba(60, 64, 67, 0.3), 0px 1px 3px 1px rgba(60, 64, 67, 0.15);\n",
              "      fill: #174EA6;\n",
              "    }\n",
              "\n",
              "    [theme=dark] .colab-df-convert {\n",
              "      background-color: #3B4455;\n",
              "      fill: #D2E3FC;\n",
              "    }\n",
              "\n",
              "    [theme=dark] .colab-df-convert:hover {\n",
              "      background-color: #434B5C;\n",
              "      box-shadow: 0px 1px 3px 1px rgba(0, 0, 0, 0.15);\n",
              "      filter: drop-shadow(0px 1px 2px rgba(0, 0, 0, 0.3));\n",
              "      fill: #FFFFFF;\n",
              "    }\n",
              "  </style>\n",
              "\n",
              "      <script>\n",
              "        const buttonEl =\n",
              "          document.querySelector('#df-d83740fc-ac22-41b6-a378-f4d9b355d46f button.colab-df-convert');\n",
              "        buttonEl.style.display =\n",
              "          google.colab.kernel.accessAllowed ? 'block' : 'none';\n",
              "\n",
              "        async function convertToInteractive(key) {\n",
              "          const element = document.querySelector('#df-d83740fc-ac22-41b6-a378-f4d9b355d46f');\n",
              "          const dataTable =\n",
              "            await google.colab.kernel.invokeFunction('convertToInteractive',\n",
              "                                                     [key], {});\n",
              "          if (!dataTable) return;\n",
              "\n",
              "          const docLinkHtml = 'Like what you see? Visit the ' +\n",
              "            '<a target=\"_blank\" href=https://colab.research.google.com/notebooks/data_table.ipynb>data table notebook</a>'\n",
              "            + ' to learn more about interactive tables.';\n",
              "          element.innerHTML = '';\n",
              "          dataTable['output_type'] = 'display_data';\n",
              "          await google.colab.output.renderOutput(dataTable, element);\n",
              "          const docLink = document.createElement('div');\n",
              "          docLink.innerHTML = docLinkHtml;\n",
              "          element.appendChild(docLink);\n",
              "        }\n",
              "      </script>\n",
              "    </div>\n",
              "  </div>\n",
              "  "
            ]
          },
          "metadata": {},
          "execution_count": 756
        }
      ],
      "source": [
        "x=dataset.iloc[ : , :-1]\n",
        "x.head()"
      ]
    },
    {
      "cell_type": "code",
      "execution_count": 757,
      "metadata": {
        "colab": {
          "base_uri": "https://localhost:8080/"
        },
        "id": "RkyJQJ0kPx_v",
        "outputId": "b67b3d23-7966-4988-a2ef-48d35668f093"
      },
      "outputs": [
        {
          "output_type": "execute_result",
          "data": {
            "text/plain": [
              "0    0\n",
              "1    0\n",
              "2    0\n",
              "3    0\n",
              "4    0\n",
              "Name: Label, dtype: int64"
            ]
          },
          "metadata": {},
          "execution_count": 757
        }
      ],
      "source": [
        "y=dataset.iloc[ : ,-1]\n",
        "y.head()"
      ]
    },
    {
      "cell_type": "code",
      "execution_count": 758,
      "metadata": {
        "id": "IcUhItgzP1m2"
      },
      "outputs": [],
      "source": [
        "xtrain, xtest, ytrain, ytest = train_test_split(x, y, test_size=0.1)"
      ]
    },
    {
      "cell_type": "code",
      "execution_count": 759,
      "metadata": {
        "colab": {
          "base_uri": "https://localhost:8080/"
        },
        "id": "TgFyppFaP4zl",
        "outputId": "b15a2d04-5266-48ff-bbac-fbfbe35a34ae"
      },
      "outputs": [
        {
          "output_type": "stream",
          "name": "stdout",
          "text": [
            "     Api  Suhu  Kelembaban     PPM\n",
            "278    0  23.4          84   13.88\n",
            "5      0  26.8          72   47.57\n",
            "65     0  26.7          74   60.84\n",
            "76     1  28.1          73  429.08\n",
            "328    1  36.5          46  605.41\n",
            "..   ...   ...         ...     ...\n",
            "261    0  23.2          84    7.61\n",
            "84     1  28.4          73  377.77\n",
            "179    0  23.6          85   58.35\n",
            "7      0  26.8          72   46.15\n",
            "279    0  23.4          84   20.57\n",
            "\n",
            "[333 rows x 4 columns]\n"
          ]
        }
      ],
      "source": [
        "print(xtrain)"
      ]
    },
    {
      "cell_type": "code",
      "execution_count": 760,
      "metadata": {
        "colab": {
          "base_uri": "https://localhost:8080/"
        },
        "id": "gYpcHJ93P7PA",
        "outputId": "46975302-beff-4a39-de22-dea69862c825"
      },
      "outputs": [
        {
          "output_type": "stream",
          "name": "stdout",
          "text": [
            "     Api  Suhu  Kelembaban      PPM\n",
            "114    1  38.7          60  3271.28\n",
            "332    0  35.7          45   621.83\n",
            "333    0  35.5          45   607.44\n",
            "148    0  23.6          84    45.79\n",
            "51     0  26.8          75    50.89\n",
            "63     0  26.7          74    52.52\n",
            "0      0  26.9          72    50.14\n",
            "126    0  40.1          58  2967.34\n",
            "173    0  23.6          85    63.84\n",
            "54     0  26.8          75    50.89\n",
            "80     1  28.2          73   468.21\n",
            "216    1  34.2          65   478.39\n",
            "236    1  37.4          55   459.86\n",
            "215    1  33.9          67   559.96\n",
            "131    0  23.5          84    48.30\n",
            "69     0  26.7          73    60.84\n",
            "12     0  26.8          72    49.77\n",
            "159    0  23.6          84    50.89\n",
            "185    0  23.6          84    70.56\n",
            "301    0  23.5          85    45.79\n",
            "73     0  26.7          73    60.84\n",
            "133    0  23.6          84    43.04\n",
            "334    0  35.4          46   593.29\n",
            "113    1  38.3          60  3231.86\n",
            "155    0  23.6          84    57.53\n",
            "83     1  28.3          73   456.54\n",
            "166    0  23.6          84    57.53\n",
            "324    1  36.9          47   632.27\n",
            "336    0  34.9          47   544.76\n",
            "123    0  40.1          59  3011.30\n",
            "308    0  28.1          84   266.51\n",
            "319    1  35.9          56   800.19\n",
            "226    1  36.3          61   425.93\n",
            "52     0  26.8          75    45.44\n",
            "163    0  23.6          84    60.84\n",
            "53     0  26.8          75    51.26\n",
            "298    0  23.5          85    40.71\n",
            "245    1  37.3          54   587.31\n"
          ]
        }
      ],
      "source": [
        "print(xtest)"
      ]
    },
    {
      "cell_type": "code",
      "execution_count": 761,
      "metadata": {
        "id": "XGF79mPZP-_-",
        "colab": {
          "base_uri": "https://localhost:8080/"
        },
        "outputId": "e38d0684-93d5-4d62-b839-becce1612ab7"
      },
      "outputs": [
        {
          "output_type": "stream",
          "name": "stderr",
          "text": [
            "/usr/local/lib/python3.8/dist-packages/sklearn/preprocessing/_data.py:2590: UserWarning: n_quantiles (1000) is greater than the total number of samples (333). n_quantiles is set to n_samples.\n",
            "  warnings.warn(\n",
            "/usr/local/lib/python3.8/dist-packages/sklearn/preprocessing/_data.py:2590: UserWarning: n_quantiles (1000) is greater than the total number of samples (38). n_quantiles is set to n_samples.\n",
            "  warnings.warn(\n"
          ]
        }
      ],
      "source": [
        "#Lebih cocok pakai ini, di bagi dulu ke xtrain dan xtest\n",
        "\n",
        "from sklearn.preprocessing import QuantileTransformer\n",
        "normscaler = QuantileTransformer()\n",
        "xtrain = normscaler.fit_transform(xtrain)\n",
        "xtest = normscaler.fit_transform(xtest)"
      ]
    },
    {
      "cell_type": "code",
      "execution_count": 762,
      "metadata": {
        "colab": {
          "base_uri": "https://localhost:8080/"
        },
        "id": "_I0uXHGfQDAY",
        "outputId": "a1e54640-5894-400f-ebf3-dde9593bc6c1"
      },
      "outputs": [
        {
          "output_type": "stream",
          "name": "stdout",
          "text": [
            "[[0.         0.09337349 0.75903614 0.07228916]\n",
            " [0.         0.42620482 0.39759036 0.20783133]\n",
            " [0.         0.3313253  0.57680723 0.45481928]\n",
            " ...\n",
            " [0.         0.24246988 1.         0.43674699]\n",
            " [0.         0.42620482 0.39759036 0.17168675]\n",
            " [0.         0.09337349 0.75903614 0.0873494 ]]\n"
          ]
        }
      ],
      "source": [
        "print(xtrain)"
      ]
    },
    {
      "cell_type": "code",
      "execution_count": 763,
      "metadata": {
        "colab": {
          "base_uri": "https://localhost:8080/"
        },
        "id": "A8puPiZPQFXo",
        "outputId": "d6551c2e-71b7-4c98-a55c-6f02c02a7f58"
      },
      "outputs": [
        {
          "output_type": "stream",
          "name": "stdout",
          "text": [
            "[[1.         0.94594595 0.28378378 1.        ]\n",
            " [0.         0.75675676 0.         0.83783784]\n",
            " [0.         0.72972973 0.         0.81081081]\n",
            " [0.         0.17567568 0.81081081 0.09459459]\n",
            " [0.         0.43243243 0.63513514 0.24324324]\n",
            " [0.         0.32432432 0.56756757 0.32432432]\n",
            " [0.         0.51351351 0.41891892 0.18918919]\n",
            " [0.         1.         0.21621622 0.91891892]\n",
            " [0.         0.17567568 1.         0.48648649]\n",
            " [0.         0.43243243 0.63513514 0.24324324]\n",
            " [1.         0.56756757 0.5        0.64864865]\n",
            " [1.         0.64864865 0.35135135 0.67567568]\n",
            " [1.         0.89189189 0.16216216 0.62162162]\n",
            " [1.         0.62162162 0.37837838 0.72972973]\n",
            " [0.         0.         0.81081081 0.13513514]\n",
            " [0.         0.32432432 0.5        0.43243243]\n",
            " [0.         0.43243243 0.41891892 0.16216216]\n",
            " [0.         0.17567568 0.81081081 0.24324324]\n",
            " [0.         0.17567568 0.81081081 0.51351351]\n",
            " [0.         0.         1.         0.09459459]\n",
            " [0.         0.32432432 0.5        0.43243243]\n",
            " [0.         0.17567568 0.81081081 0.02702703]\n",
            " [0.         0.7027027  0.05405405 0.78378378]\n",
            " [1.         0.91891892 0.28378378 0.97297297]\n",
            " [0.         0.17567568 0.81081081 0.36486486]\n",
            " [1.         0.59459459 0.5        0.59459459]\n",
            " [0.         0.17567568 0.81081081 0.36486486]\n",
            " [1.         0.83783784 0.09459459 0.86486486]\n",
            " [0.         0.67567568 0.09459459 0.7027027 ]\n",
            " [0.         1.         0.24324324 0.94594595]\n",
            " [0.         0.54054054 0.81081081 0.54054054]\n",
            " [1.         0.78378378 0.18918919 0.89189189]\n",
            " [1.         0.81081081 0.32432432 0.56756757]\n",
            " [0.         0.43243243 0.63513514 0.05405405]\n",
            " [0.         0.17567568 0.81081081 0.43243243]\n",
            " [0.         0.43243243 0.63513514 0.2972973 ]\n",
            " [0.         0.         1.         0.        ]\n",
            " [1.         0.86486486 0.13513514 0.75675676]]\n"
          ]
        }
      ],
      "source": [
        "print(xtest)"
      ]
    },
    {
      "cell_type": "code",
      "execution_count": 764,
      "metadata": {
        "id": "nn_fRJwWQK4W"
      },
      "outputs": [],
      "source": [
        "model = SVC(kernel='linear', C=1E10)"
      ]
    },
    {
      "cell_type": "code",
      "execution_count": 765,
      "metadata": {
        "colab": {
          "base_uri": "https://localhost:8080/"
        },
        "id": "TJb9l2a2QeJe",
        "outputId": "9fdceb43-fa42-47a8-f753-2638fc9567f9"
      },
      "outputs": [
        {
          "output_type": "execute_result",
          "data": {
            "text/plain": [
              "SVC(C=10000000000.0, kernel='linear')"
            ]
          },
          "metadata": {},
          "execution_count": 765
        }
      ],
      "source": [
        "model.fit(xtrain, ytrain)"
      ]
    },
    {
      "cell_type": "code",
      "execution_count": 766,
      "metadata": {
        "colab": {
          "base_uri": "https://localhost:8080/"
        },
        "id": "4BGO9b4RRBxA",
        "outputId": "b3e66d8b-df92-46c9-aaae-82e0685f2514"
      },
      "outputs": [
        {
          "output_type": "stream",
          "name": "stdout",
          "text": [
            "[1 1 1 0 0 0 0 1 0 0 1 1 1 1 0 0 0 0 0 0 0 0 1 1 0 1 0 1 1 1 1 1 1 0 0 0 0\n",
            " 1]\n"
          ]
        }
      ],
      "source": [
        "predictions = model.predict(xtest)\n",
        "print(predictions)"
      ]
    },
    {
      "cell_type": "code",
      "execution_count": 767,
      "metadata": {
        "id": "l2LezJEMVDpl"
      },
      "outputs": [],
      "source": [
        "from sklearn.metrics import accuracy_score, confusion_matrix, classification_report"
      ]
    },
    {
      "cell_type": "code",
      "execution_count": 768,
      "metadata": {
        "id": "T8KglenSRM4R"
      },
      "outputs": [],
      "source": [
        "percentage = accuracy_score(ytest,predictions)"
      ]
    },
    {
      "cell_type": "code",
      "execution_count": 769,
      "metadata": {
        "colab": {
          "base_uri": "https://localhost:8080/"
        },
        "id": "gzgzj3gFRTiD",
        "outputId": "49f86152-8702-491f-a367-4629899471cb"
      },
      "outputs": [
        {
          "output_type": "stream",
          "name": "stdout",
          "text": [
            "              precision    recall  f1-score   support\n",
            "\n",
            "           0       1.00      1.00      1.00        20\n",
            "           1       1.00      1.00      1.00        18\n",
            "\n",
            "    accuracy                           1.00        38\n",
            "   macro avg       1.00      1.00      1.00        38\n",
            "weighted avg       1.00      1.00      1.00        38\n",
            "\n",
            "Confusion Matrix\n",
            "[[20  0]\n",
            " [ 0 18]]\n",
            "Test Set: 38\n",
            "Accuracy = 100.0 %\n"
          ]
        }
      ],
      "source": [
        "res = confusion_matrix(ytest, predictions)\n",
        "print(classification_report(ytest,predictions))\n",
        "print(\"Confusion Matrix\")\n",
        "print(res)\n",
        "print(f\"Test Set: {len(xtest)}\")\n",
        "print(f\"Accuracy = {percentage*100} %\")"
      ]
    }
  ],
  "metadata": {
    "colab": {
      "provenance": []
    },
    "kernelspec": {
      "display_name": "Python 3",
      "name": "python3"
    },
    "language_info": {
      "name": "python"
    }
  },
  "nbformat": 4,
  "nbformat_minor": 0
}